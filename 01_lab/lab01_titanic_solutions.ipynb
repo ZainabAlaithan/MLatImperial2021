{
  "nbformat": 4,
  "nbformat_minor": 0,
  "metadata": {
    "colab": {
      "name": "Copy of lab01_titanic.ipynb",
      "provenance": [],
      "collapsed_sections": [],
      "include_colab_link": true
    },
    "kernelspec": {
      "display_name": "Python 3",
      "language": "python",
      "name": "python3"
    },
    "language_info": {
      "codemirror_mode": {
        "name": "ipython",
        "version": 3
      },
      "file_extension": ".py",
      "mimetype": "text/x-python",
      "name": "python",
      "nbconvert_exporter": "python",
      "pygments_lexer": "ipython3",
      "version": "3.5.2"
    }
  },
  "cells": [
    {
      "cell_type": "markdown",
      "metadata": {
        "id": "view-in-github",
        "colab_type": "text"
      },
      "source": [
        "<a href=\"https://colab.research.google.com/github/yandexdataschool/MLatImperial2021/blob/master/01_lab/lab01_titanic_solutions.ipynb\" target=\"_parent\"><img src=\"https://colab.research.google.com/assets/colab-badge.svg\" alt=\"Open In Colab\"/></a>"
      ]
    },
    {
      "cell_type": "markdown",
      "metadata": {
        "id": "Aw1cuRi7hhzz"
      },
      "source": [
        "# Titanic: Machine Learning from Disaster"
      ]
    },
    {
      "cell_type": "markdown",
      "metadata": {
        "id": "w3muhqoaJXVL"
      },
      "source": [
        "This notebook's gonna teach you to use the basic data science stack for python: jupyter, numpy, pandas, matplotlib and sklearn. We will try to use these tools to analyze the data from the infamous Titanic shipwreck.\n",
        "\n",
        "![\"Untergang der Titanic\", as conceived by Willy Stöwer, 1912](https://upload.wikimedia.org/wikipedia/commons/6/6e/St%C3%B6wer_Titanic.jpg)"
      ]
    },
    {
      "cell_type": "markdown",
      "metadata": {
        "id": "I_J_iM9Hjwc3"
      },
      "source": [
        "## Part I: Jupyter notebooks recap"
      ]
    },
    {
      "cell_type": "markdown",
      "metadata": {
        "id": "lyB4dc4Lt7xp"
      },
      "source": [
        "This whole document you are looking at right now is a **jupyter notebook**. You can think of jupyter as of a browser-friendly python development environment.\n",
        "\n",
        "For each notebook there's a python interpreter running behind the scenes, also called a **kernel**. The notebook consists of **cells** - either *code* cells, or *text* cells. E.g. this text you're reading is in a text cell.\n",
        "\n",
        "An example of a code cell can be found below. You can execute its code by placing the coursor in it and hitting `Shift + Enter`.\n",
        "\n",
        "__please keep running all the code cells as you read__"
      ]
    },
    {
      "cell_type": "code",
      "metadata": {
        "id": "pJak2EJ-vEYd",
        "colab": {
          "base_uri": "https://localhost:8080/"
        },
        "outputId": "c8ac4e67-0eb7-4bba-9a7d-785b3b20907a"
      },
      "source": [
        "print('Hello world')"
      ],
      "execution_count": 1,
      "outputs": [
        {
          "output_type": "stream",
          "text": [
            "Hello world\n"
          ],
          "name": "stdout"
        }
      ]
    },
    {
      "cell_type": "markdown",
      "metadata": {
        "id": "HMZCQoKzvMJv"
      },
      "source": [
        "Note that same python session is used to run the code from different cells. So, for example, by defining a variable in one cell, you can re-use it in another:"
      ]
    },
    {
      "cell_type": "code",
      "metadata": {
        "id": "yeSmID9LvKgS"
      },
      "source": [
        "some_number = 42"
      ],
      "execution_count": 4,
      "outputs": []
    },
    {
      "cell_type": "code",
      "metadata": {
        "id": "K7o2AxcoveeN",
        "colab": {
          "base_uri": "https://localhost:8080/"
        },
        "outputId": "edc5d303-6ba7-478f-829a-84eb85845bf1"
      },
      "source": [
        "some_number**2"
      ],
      "execution_count": 5,
      "outputs": [
        {
          "output_type": "execute_result",
          "data": {
            "text/plain": [
              "1764"
            ]
          },
          "metadata": {
            "tags": []
          },
          "execution_count": 5
        }
      ]
    },
    {
      "cell_type": "markdown",
      "metadata": {
        "id": "s9QW0Uojvlxh"
      },
      "source": [
        "Jupyter allows you to run cells in an arbitrary order, which may make your code a bit messy and complicated to debug. In general it's a good practice to write your code such that it successfully runs from top to bottom in a clean environment. To reset your environment back to a clean state click `Runtime -> Restart runtime` (in regular jupyter: `Kernel -> Restart`)."
      ]
    },
    {
      "cell_type": "markdown",
      "metadata": {
        "id": "De2BsSxGJXVV"
      },
      "source": [
        "**The most important feature** of jupyter notebooks for this course: \n",
        "* contextual help: In colab the suggestions / documentation will appear automatically as you type."
      ]
    },
    {
      "cell_type": "code",
      "metadata": {
        "id": "5oQdc9MIJXVW"
      },
      "source": [
        "# run this first\n",
        "import math"
      ],
      "execution_count": 6,
      "outputs": []
    },
    {
      "cell_type": "code",
      "metadata": {
        "id": "4FZxJodmJXVZ",
        "colab": {
          "base_uri": "https://localhost:8080/"
        },
        "outputId": "3987af82-3568-4d85-b728-dd047bdf8f46"
      },
      "source": [
        "# Place your cursor at the end of the unfinished line below and \n",
        "# type in '.' to see the contextual help and\n",
        "# find a function that computes arctangent from two parameters (should\n",
        "# have 2 in it's name).\n",
        "# Once you chose it, put an opening bracket character to\n",
        "# see the docs.\n",
        "\n",
        "math.atan2(-1, -1)  # <--- type in a '.' symbol to see suggestions"
      ],
      "execution_count": 7,
      "outputs": [
        {
          "output_type": "execute_result",
          "data": {
            "text/plain": [
              "-2.356194490192345"
            ]
          },
          "metadata": {
            "tags": []
          },
          "execution_count": 7
        }
      ]
    },
    {
      "cell_type": "code",
      "metadata": {
        "colab": {
          "base_uri": "https://localhost:8080/"
        },
        "id": "DG1eCaIAtFmR",
        "outputId": "3e1cd007-7254-4825-9a73-31744725c0d2"
      },
      "source": [
        "-3 * 3.1415 / 4"
      ],
      "execution_count": 8,
      "outputs": [
        {
          "output_type": "execute_result",
          "data": {
            "text/plain": [
              "-2.356125"
            ]
          },
          "metadata": {
            "tags": []
          },
          "execution_count": 8
        }
      ]
    },
    {
      "cell_type": "markdown",
      "metadata": {
        "id": "-cY1PEyznRYw"
      },
      "source": [
        "## Part II: Numpy and vectorized computing"
      ]
    },
    {
      "cell_type": "markdown",
      "metadata": {
        "id": "4luG6vWXJXWU"
      },
      "source": [
        "Almost any machine learning model requires some computationally heavy lifting usually involving linear algebra problems. Unfortunately, raw python is terrible at this because each operation is interpreted at runtime. \n",
        "\n",
        "So instead, we'll use `numpy` - a library that lets you run blazing fast computation with vectors, matrices and other tensors. It's written in lower-level programming languages like C or Fortran and only uses python as an interface.\n",
        "\n",
        "Quoting [documentation](https://numpy.org/devdocs/user/quickstart.html):\n",
        "> NumPy’s main object is the homogeneous multidimensional array. It is a table of elements (usually numbers), all of the same type, indexed by a tuple of non-negative integers. In NumPy dimensions are called axes.\n",
        "\n",
        "\n",
        "\n",
        "\n",
        "This object is called `numpy.ndarray` (\"nd\" standing for \"N-dimensional\"). It is also aliased to `numpy.array`:"
      ]
    },
    {
      "cell_type": "code",
      "metadata": {
        "id": "gcTokNL-JXWV",
        "colab": {
          "base_uri": "https://localhost:8080/"
        },
        "outputId": "fef7673d-6556-41f8-f901-db71a2c50ce2"
      },
      "source": [
        "import numpy as np\n",
        "\n",
        "a = np.array([1,2,3,4,5])\n",
        "b = np.array([5,4,3,2,1])\n",
        "print(\"a = \", a)\n",
        "print(\"b = \", b)\n",
        "\n",
        "# math and boolean operations can be applied to each element of an array\n",
        "print(\"a + 1 =\", a + 1)\n",
        "print(\"a * 2 =\", a * 2)\n",
        "print(\"a == 2\", a == 2)\n",
        "# ... or corresponding elements of two (or more) arrays\n",
        "print(\"a + b =\", a + b)\n",
        "print(\"a * b =\", a * b)"
      ],
      "execution_count": 9,
      "outputs": [
        {
          "output_type": "stream",
          "text": [
            "a =  [1 2 3 4 5]\n",
            "b =  [5 4 3 2 1]\n",
            "a + 1 = [2 3 4 5 6]\n",
            "a * 2 = [ 2  4  6  8 10]\n",
            "a == 2 [False  True False False False]\n",
            "a + b = [6 6 6 6 6]\n",
            "a * b = [5 8 9 8 5]\n"
          ],
          "name": "stdout"
        }
      ]
    },
    {
      "cell_type": "code",
      "metadata": {
        "id": "40slF_H1JXWY",
        "colab": {
          "base_uri": "https://localhost:8080/"
        },
        "outputId": "c6dfddd3-f2b6-4a37-ec46-ff6c32fef79d"
      },
      "source": [
        "# Your turn: compute half-products of a and b elements (halves of products)\n",
        "a * b / 2"
      ],
      "execution_count": 10,
      "outputs": [
        {
          "output_type": "execute_result",
          "data": {
            "text/plain": [
              "array([2.5, 4. , 4.5, 4. , 2.5])"
            ]
          },
          "metadata": {
            "tags": []
          },
          "execution_count": 10
        }
      ]
    },
    {
      "cell_type": "code",
      "metadata": {
        "id": "EnNXgtaaJXWa",
        "colab": {
          "base_uri": "https://localhost:8080/"
        },
        "outputId": "4553c048-c734-49c1-cc4d-6321977297e5"
      },
      "source": [
        "# compute elementwise quotient between squared a and (b plus 1)\n",
        "a**2 / (b + 1)"
      ],
      "execution_count": 11,
      "outputs": [
        {
          "output_type": "execute_result",
          "data": {
            "text/plain": [
              "array([ 0.16666667,  0.8       ,  2.25      ,  5.33333333, 12.5       ])"
            ]
          },
          "metadata": {
            "tags": []
          },
          "execution_count": 11
        }
      ]
    },
    {
      "cell_type": "markdown",
      "metadata": {
        "id": "KSkrSyKTnJBp"
      },
      "source": [
        "```\n",
        "\n",
        "```\n",
        "\n",
        "```\n",
        "\n",
        "```\n",
        "\n",
        "```\n",
        "\n",
        "```\n",
        "\n",
        "```\n",
        "\n",
        "```\n",
        "\n",
        "```\n",
        "\n",
        "```"
      ]
    },
    {
      "cell_type": "markdown",
      "metadata": {
        "id": "uHV6HlQgoL-r"
      },
      "source": [
        "There's a number of functions to create arrays of zeros, ones, ascending/descending numbers etc.:"
      ]
    },
    {
      "cell_type": "code",
      "metadata": {
        "id": "dCqkfcCWoi1I",
        "colab": {
          "base_uri": "https://localhost:8080/"
        },
        "outputId": "5db7aa5f-ce28-4be0-e3cd-47a012dc3103"
      },
      "source": [
        "np.zeros(shape=(3, 4, 5))"
      ],
      "execution_count": 14,
      "outputs": [
        {
          "output_type": "execute_result",
          "data": {
            "text/plain": [
              "array([[[0., 0., 0., 0., 0.],\n",
              "        [0., 0., 0., 0., 0.],\n",
              "        [0., 0., 0., 0., 0.],\n",
              "        [0., 0., 0., 0., 0.]],\n",
              "\n",
              "       [[0., 0., 0., 0., 0.],\n",
              "        [0., 0., 0., 0., 0.],\n",
              "        [0., 0., 0., 0., 0.],\n",
              "        [0., 0., 0., 0., 0.]],\n",
              "\n",
              "       [[0., 0., 0., 0., 0.],\n",
              "        [0., 0., 0., 0., 0.],\n",
              "        [0., 0., 0., 0., 0.],\n",
              "        [0., 0., 0., 0., 0.]]])"
            ]
          },
          "metadata": {
            "tags": []
          },
          "execution_count": 14
        }
      ]
    },
    {
      "cell_type": "code",
      "metadata": {
        "id": "NAee3VdtorX8",
        "colab": {
          "base_uri": "https://localhost:8080/"
        },
        "outputId": "5316beac-92a0-4279-d10f-bf8475081dca"
      },
      "source": [
        "np.ones(shape=(2, 5), dtype=np.bool)"
      ],
      "execution_count": 15,
      "outputs": [
        {
          "output_type": "execute_result",
          "data": {
            "text/plain": [
              "array([[ True,  True,  True,  True,  True],\n",
              "       [ True,  True,  True,  True,  True]])"
            ]
          },
          "metadata": {
            "tags": []
          },
          "execution_count": 15
        }
      ]
    },
    {
      "cell_type": "code",
      "metadata": {
        "id": "ymW4lMqpozFn",
        "colab": {
          "base_uri": "https://localhost:8080/"
        },
        "outputId": "f050ab12-38d1-44c0-a4f4-ac806c468f83"
      },
      "source": [
        "np.arange(3., 15.2, 1.5)"
      ],
      "execution_count": 20,
      "outputs": [
        {
          "output_type": "execute_result",
          "data": {
            "text/plain": [
              "array([ 3. ,  4.5,  6. ,  7.5,  9. , 10.5, 12. , 13.5, 15. ])"
            ]
          },
          "metadata": {
            "tags": []
          },
          "execution_count": 20
        }
      ]
    },
    {
      "cell_type": "code",
      "metadata": {
        "id": "KQi-FGqto_ty",
        "colab": {
          "base_uri": "https://localhost:8080/"
        },
        "outputId": "49636d86-5b17-47be-b8d9-5fc8f71589cb"
      },
      "source": [
        "np.linspace(0, 10, 10) # divide [0, 10] interval into 11 points"
      ],
      "execution_count": 19,
      "outputs": [
        {
          "output_type": "execute_result",
          "data": {
            "text/plain": [
              "array([ 0.        ,  1.11111111,  2.22222222,  3.33333333,  4.44444444,\n",
              "        5.55555556,  6.66666667,  7.77777778,  8.88888889, 10.        ])"
            ]
          },
          "metadata": {
            "tags": []
          },
          "execution_count": 19
        }
      ]
    },
    {
      "cell_type": "code",
      "metadata": {
        "id": "7d7MlvuqpJ0S",
        "colab": {
          "base_uri": "https://localhost:8080/"
        },
        "outputId": "a959989f-935f-441b-e923-ac5ba28dea85"
      },
      "source": [
        "print(np.logspace(1, 10, 10, base=2, dtype=np.int64))\n",
        "\n",
        "print(2**np.linspace(1, 10, 10))"
      ],
      "execution_count": 21,
      "outputs": [
        {
          "output_type": "stream",
          "text": [
            "[   2    4    8   16   32   64  128  256  512 1024]\n",
            "[   2.    4.    8.   16.   32.   64.  128.  256.  512. 1024.]\n"
          ],
          "name": "stdout"
        }
      ]
    },
    {
      "cell_type": "markdown",
      "metadata": {
        "id": "C4hb3shSpdBf"
      },
      "source": [
        "You can easily reshape arrays:"
      ]
    },
    {
      "cell_type": "code",
      "metadata": {
        "id": "83xNeecTphm4",
        "colab": {
          "base_uri": "https://localhost:8080/"
        },
        "outputId": "1127e7e9-4f5e-41c6-c3f1-c60d65405f82"
      },
      "source": [
        "np.arange(24).reshape(2, 3, 4)"
      ],
      "execution_count": 22,
      "outputs": [
        {
          "output_type": "execute_result",
          "data": {
            "text/plain": [
              "array([[[ 0,  1,  2,  3],\n",
              "        [ 4,  5,  6,  7],\n",
              "        [ 8,  9, 10, 11]],\n",
              "\n",
              "       [[12, 13, 14, 15],\n",
              "        [16, 17, 18, 19],\n",
              "        [20, 21, 22, 23]]])"
            ]
          },
          "metadata": {
            "tags": []
          },
          "execution_count": 22
        }
      ]
    },
    {
      "cell_type": "markdown",
      "metadata": {
        "id": "F_evgKCtpzpk"
      },
      "source": [
        "or add dimensions of size 1:"
      ]
    },
    {
      "cell_type": "code",
      "metadata": {
        "colab": {
          "base_uri": "https://localhost:8080/"
        },
        "id": "slhMBW3RwziT",
        "outputId": "2d30f4bb-df55-42c1-9df8-0ac9554b58f8"
      },
      "source": [
        "np.arange(3)[0]"
      ],
      "execution_count": 26,
      "outputs": [
        {
          "output_type": "execute_result",
          "data": {
            "text/plain": [
              "0"
            ]
          },
          "metadata": {
            "tags": []
          },
          "execution_count": 26
        }
      ]
    },
    {
      "cell_type": "code",
      "metadata": {
        "id": "It_JTbIiqCTH",
        "colab": {
          "base_uri": "https://localhost:8080/"
        },
        "outputId": "6299a67e-3aec-472f-c390-beedb000b9c8"
      },
      "source": [
        "print(np.arange(3)[:, np.newaxis])\n",
        "print('---')\n",
        "print(np.arange(3)[np.newaxis, :])\n",
        "\n",
        "#### Or similarly:\n",
        "\n",
        "# print(np.arange(3)[:, None])\n",
        "# print('---')\n",
        "# print(np.arange(3)[None, :])"
      ],
      "execution_count": 25,
      "outputs": [
        {
          "output_type": "stream",
          "text": [
            "[[0]\n",
            " [1]\n",
            " [2]]\n",
            "---\n",
            "[[0 1 2]]\n"
          ],
          "name": "stdout"
        }
      ]
    },
    {
      "cell_type": "markdown",
      "metadata": {
        "id": "4eE5Uq8GqO75"
      },
      "source": [
        "Such dimensions are automatically broadcast when doing mathematical operations:"
      ]
    },
    {
      "cell_type": "code",
      "metadata": {
        "colab": {
          "base_uri": "https://localhost:8080/",
          "height": 162
        },
        "id": "zIZ_lL1oxgqg",
        "outputId": "d98c236f-1b92-4cf0-fecd-d9413aeb0904"
      },
      "source": [
        "np.arange(3) + np.arange(4)"
      ],
      "execution_count": 27,
      "outputs": [
        {
          "output_type": "error",
          "ename": "ValueError",
          "evalue": "ignored",
          "traceback": [
            "\u001b[0;31m---------------------------------------------------------------------------\u001b[0m",
            "\u001b[0;31mValueError\u001b[0m                                Traceback (most recent call last)",
            "\u001b[0;32m<ipython-input-27-fb27528f727a>\u001b[0m in \u001b[0;36m<module>\u001b[0;34m()\u001b[0m\n\u001b[0;32m----> 1\u001b[0;31m \u001b[0mnp\u001b[0m\u001b[0;34m.\u001b[0m\u001b[0marange\u001b[0m\u001b[0;34m(\u001b[0m\u001b[0;36m3\u001b[0m\u001b[0;34m)\u001b[0m \u001b[0;34m+\u001b[0m \u001b[0mnp\u001b[0m\u001b[0;34m.\u001b[0m\u001b[0marange\u001b[0m\u001b[0;34m(\u001b[0m\u001b[0;36m4\u001b[0m\u001b[0;34m)\u001b[0m\u001b[0;34m\u001b[0m\u001b[0;34m\u001b[0m\u001b[0m\n\u001b[0m",
            "\u001b[0;31mValueError\u001b[0m: operands could not be broadcast together with shapes (3,) (4,) "
          ]
        }
      ]
    },
    {
      "cell_type": "code",
      "metadata": {
        "id": "VmO2UtjtqcEU",
        "colab": {
          "base_uri": "https://localhost:8080/"
        },
        "outputId": "691abe1b-5fc0-4b74-da52-a9b31363e216"
      },
      "source": [
        "print(np.arange(3)[:, np.newaxis] + np.zeros(shape=(3, 5), dtype=int))\n",
        "print()\n",
        "print(np.arange(3)[np.newaxis, :] + np.zeros(shape=(2, 3), dtype=int))"
      ],
      "execution_count": 29,
      "outputs": [
        {
          "output_type": "stream",
          "text": [
            "[[0 0 0 0 0]\n",
            " [1 1 1 1 1]\n",
            " [2 2 2 2 2]]\n",
            "\n",
            "[[0 1 2]\n",
            " [0 1 2]]\n"
          ],
          "name": "stdout"
        }
      ]
    },
    {
      "cell_type": "code",
      "metadata": {
        "colab": {
          "base_uri": "https://localhost:8080/"
        },
        "id": "N4KaS3I3yKuD",
        "outputId": "58c50a6c-8730-46c7-ef33-02c6613344b6"
      },
      "source": [
        "np.arange(3)[:, np.newaxis] + np.arange(3)[np.newaxis, :]"
      ],
      "execution_count": 30,
      "outputs": [
        {
          "output_type": "execute_result",
          "data": {
            "text/plain": [
              "array([[0, 1, 2],\n",
              "       [1, 2, 3],\n",
              "       [2, 3, 4]])"
            ]
          },
          "metadata": {
            "tags": []
          },
          "execution_count": 30
        }
      ]
    },
    {
      "cell_type": "markdown",
      "metadata": {
        "id": "pfmFlVopqzId"
      },
      "source": [
        "There is also a number of ways to stack arrays together:"
      ]
    },
    {
      "cell_type": "code",
      "metadata": {
        "id": "WzfKzymGq3wX",
        "colab": {
          "base_uri": "https://localhost:8080/"
        },
        "outputId": "01246b6b-8cc5-4c1d-b037-821d031aee6d"
      },
      "source": [
        "matrix1 = np.arange(50).reshape(10, 5)\n",
        "matrix2 = -np.arange(20).reshape(10, 2)\n",
        "\n",
        "np.concatenate([matrix1, matrix2, matrix2], axis=1)"
      ],
      "execution_count": 35,
      "outputs": [
        {
          "output_type": "execute_result",
          "data": {
            "text/plain": [
              "array([[  0,   1,   2,   3,   4,   0,  -1,   0,  -1],\n",
              "       [  5,   6,   7,   8,   9,  -2,  -3,  -2,  -3],\n",
              "       [ 10,  11,  12,  13,  14,  -4,  -5,  -4,  -5],\n",
              "       [ 15,  16,  17,  18,  19,  -6,  -7,  -6,  -7],\n",
              "       [ 20,  21,  22,  23,  24,  -8,  -9,  -8,  -9],\n",
              "       [ 25,  26,  27,  28,  29, -10, -11, -10, -11],\n",
              "       [ 30,  31,  32,  33,  34, -12, -13, -12, -13],\n",
              "       [ 35,  36,  37,  38,  39, -14, -15, -14, -15],\n",
              "       [ 40,  41,  42,  43,  44, -16, -17, -16, -17],\n",
              "       [ 45,  46,  47,  48,  49, -18, -19, -18, -19]])"
            ]
          },
          "metadata": {
            "tags": []
          },
          "execution_count": 35
        }
      ]
    },
    {
      "cell_type": "code",
      "metadata": {
        "id": "EqJnzNehrYYP",
        "colab": {
          "base_uri": "https://localhost:8080/"
        },
        "outputId": "8961518e-c3eb-473b-cfe3-c0bb09be2fe0"
      },
      "source": [
        "A = matrix1[:,0]\n",
        "B = matrix2[:,0]\n",
        "\n",
        "print(A)\n",
        "print('---')\n",
        "print(B)\n",
        "print('---')\n",
        "print(np.stack([A, B, B, B], axis=0))\n",
        "\n"
      ],
      "execution_count": 34,
      "outputs": [
        {
          "output_type": "stream",
          "text": [
            "[ 0  5 10 15 20 25 30 35 40 45]\n",
            "---\n",
            "[  0  -2  -4  -6  -8 -10 -12 -14 -16 -18]\n",
            "---\n",
            "[[  0   5  10  15  20  25  30  35  40  45]\n",
            " [  0  -2  -4  -6  -8 -10 -12 -14 -16 -18]\n",
            " [  0  -2  -4  -6  -8 -10 -12 -14 -16 -18]\n",
            " [  0  -2  -4  -6  -8 -10 -12 -14 -16 -18]]\n"
          ],
          "name": "stdout"
        }
      ]
    },
    {
      "cell_type": "markdown",
      "metadata": {
        "id": "MulZJhPBr6ie"
      },
      "source": [
        "Any matrix can be transposed easily:"
      ]
    },
    {
      "cell_type": "code",
      "metadata": {
        "id": "KIeOCQ-wr_Q6",
        "colab": {
          "base_uri": "https://localhost:8080/"
        },
        "outputId": "7d0d67eb-07cb-4516-a215-1fc29eecbc59"
      },
      "source": [
        "print(matrix2)\n",
        "print('---')\n",
        "print(matrix2.T)"
      ],
      "execution_count": 36,
      "outputs": [
        {
          "output_type": "stream",
          "text": [
            "[[  0  -1]\n",
            " [ -2  -3]\n",
            " [ -4  -5]\n",
            " [ -6  -7]\n",
            " [ -8  -9]\n",
            " [-10 -11]\n",
            " [-12 -13]\n",
            " [-14 -15]\n",
            " [-16 -17]\n",
            " [-18 -19]]\n",
            "---\n",
            "[[  0  -2  -4  -6  -8 -10 -12 -14 -16 -18]\n",
            " [ -1  -3  -5  -7  -9 -11 -13 -15 -17 -19]]\n"
          ],
          "name": "stdout"
        }
      ]
    },
    {
      "cell_type": "code",
      "metadata": {
        "colab": {
          "base_uri": "https://localhost:8080/"
        },
        "id": "gB0cgC4S2Q0V",
        "outputId": "3b84730d-a9ee-47bc-a43d-018789f0e645"
      },
      "source": [
        "matrix2"
      ],
      "execution_count": 37,
      "outputs": [
        {
          "output_type": "execute_result",
          "data": {
            "text/plain": [
              "array([[  0,  -1],\n",
              "       [ -2,  -3],\n",
              "       [ -4,  -5],\n",
              "       [ -6,  -7],\n",
              "       [ -8,  -9],\n",
              "       [-10, -11],\n",
              "       [-12, -13],\n",
              "       [-14, -15],\n",
              "       [-16, -17],\n",
              "       [-18, -19]])"
            ]
          },
          "metadata": {
            "tags": []
          },
          "execution_count": 37
        }
      ]
    },
    {
      "cell_type": "code",
      "metadata": {
        "id": "pjylgkKQ2SK9"
      },
      "source": [
        "matrix2.reshape(2, 2, 5)[1, 1, 1] = -10000"
      ],
      "execution_count": 40,
      "outputs": []
    },
    {
      "cell_type": "code",
      "metadata": {
        "colab": {
          "base_uri": "https://localhost:8080/"
        },
        "id": "T1WAzrlt2Wm5",
        "outputId": "7fad2a51-5986-4cff-8857-c592ad8d5f77"
      },
      "source": [
        "matrix2"
      ],
      "execution_count": 41,
      "outputs": [
        {
          "output_type": "execute_result",
          "data": {
            "text/plain": [
              "array([[    -4,     -1],\n",
              "       [    -2,     -3],\n",
              "       [    -4,     -5],\n",
              "       [    -6,     -7],\n",
              "       [    -8,     -9],\n",
              "       [   -10,    -11],\n",
              "       [   -12,    -13],\n",
              "       [   -14,    -15],\n",
              "       [-10000,    -17],\n",
              "       [   -18,    -19]])"
            ]
          },
          "metadata": {
            "tags": []
          },
          "execution_count": 41
        }
      ]
    },
    {
      "cell_type": "code",
      "metadata": {
        "id": "SIceEFFiMK5k",
        "colab": {
          "base_uri": "https://localhost:8080/"
        },
        "outputId": "900499af-6be3-46af-c563-0191d85bba9d"
      },
      "source": [
        "print('matrix2.shape =', matrix2.shape)\n",
        "print('matrix2.T.shape =', matrix2.T.shape)"
      ],
      "execution_count": 42,
      "outputs": [
        {
          "output_type": "stream",
          "text": [
            "matrix2.shape = (10, 2)\n",
            "matrix2.T.shape = (2, 10)\n"
          ],
          "name": "stdout"
        }
      ]
    },
    {
      "cell_type": "code",
      "metadata": {
        "id": "WnajGvSrsP-t",
        "colab": {
          "base_uri": "https://localhost:8080/"
        },
        "outputId": "6ee16cbc-b73e-4442-c72b-654c8f734faf"
      },
      "source": [
        "# Your turn: make a (7 x 5) matrix with e_ij = i\n",
        "# (i - row number, j - column number)\n",
        "#\n",
        "# Avoid using loops.\n",
        "\n",
        "np.stack([np.arange(7)] * 5, axis=1)"
      ],
      "execution_count": 50,
      "outputs": [
        {
          "output_type": "execute_result",
          "data": {
            "text/plain": [
              "array([[0., 0., 0., 0., 0.],\n",
              "       [1., 1., 1., 1., 1.],\n",
              "       [2., 2., 2., 2., 2.],\n",
              "       [3., 3., 3., 3., 3.],\n",
              "       [4., 4., 4., 4., 4.],\n",
              "       [5., 5., 5., 5., 5.],\n",
              "       [6., 6., 6., 6., 6.]])"
            ]
          },
          "metadata": {
            "tags": []
          },
          "execution_count": 50
        }
      ]
    },
    {
      "cell_type": "markdown",
      "metadata": {
        "id": "56X724n8nNK9"
      },
      "source": [
        "### How fast is it?"
      ]
    },
    {
      "cell_type": "markdown",
      "metadata": {
        "id": "J7ugCw1wJXWc"
      },
      "source": [
        "Let's compare computation time for python and numpy\n",
        "* Two arrays of 10^6 elements\n",
        " * first - from 0 to 1 000 000\n",
        " * second - from 99 to 1 000 099\n",
        " \n",
        "* Computing:\n",
        " * elemwise sum\n",
        " * elemwise product\n",
        " * square root of first array\n",
        " * sum of all elements in the first array\n",
        " "
      ]
    },
    {
      "cell_type": "code",
      "metadata": {
        "id": "hkaH4AkUJXWd",
        "colab": {
          "base_uri": "https://localhost:8080/"
        },
        "outputId": "e942d4ad-9199-42e9-951a-5120b5694d29"
      },
      "source": [
        "%%time \n",
        "# ^-- this \"magic\" measures and prints cell computation time\n",
        "\n",
        "# Option I: pure python\n",
        "arr_1 = range(1000000)\n",
        "arr_2 = range(99,1000099)\n",
        "\n",
        "\n",
        "a_sum = []\n",
        "a_prod = []\n",
        "sqrt_a1 = []\n",
        "for i in range(len(arr_1)):\n",
        "    a_sum.append(arr_1[i]+arr_2[i])\n",
        "    a_prod.append(arr_1[i]*arr_2[i])\n",
        "    a_sum.append(arr_1[i]**0.5)\n",
        "    \n",
        "arr_1_sum = sum(arr_1)\n"
      ],
      "execution_count": 52,
      "outputs": [
        {
          "output_type": "stream",
          "text": [
            "CPU times: user 1.15 s, sys: 53.9 ms, total: 1.2 s\n",
            "Wall time: 1.21 s\n"
          ],
          "name": "stdout"
        }
      ]
    },
    {
      "cell_type": "code",
      "metadata": {
        "id": "BasUnM6uJXWf",
        "colab": {
          "base_uri": "https://localhost:8080/"
        },
        "outputId": "b5382172-57ca-43a0-c25e-bd82a471f721"
      },
      "source": [
        "%%time\n",
        "\n",
        "# Option II: start from python, convert to numpy\n",
        "arr_1 = range(1000000)\n",
        "arr_2 = range(99,1000099)\n",
        "\n",
        "arr_1, arr_2 = np.array(arr_1) , np.array(arr_2)\n",
        "\n",
        "\n",
        "a_sum = arr_1 + arr_2\n",
        "a_prod = arr_1 * arr_2\n",
        "sqrt_a1 = arr_1 ** .5\n",
        "arr_1_sum = arr_1.sum()\n"
      ],
      "execution_count": 54,
      "outputs": [
        {
          "output_type": "stream",
          "text": [
            "CPU times: user 369 ms, sys: 96.5 ms, total: 466 ms\n",
            "Wall time: 465 ms\n"
          ],
          "name": "stdout"
        }
      ]
    },
    {
      "cell_type": "code",
      "metadata": {
        "id": "whU6BvJ6JXWi",
        "colab": {
          "base_uri": "https://localhost:8080/"
        },
        "outputId": "17bff05e-18c0-44e7-a946-caeaccb810bf"
      },
      "source": [
        "%%time\n",
        "\n",
        "# Option III: pure numpy\n",
        "arr_1 = np.arange(1000000)\n",
        "arr_2 = np.arange(99,1000099)\n",
        "\n",
        "a_sum = arr_1 + arr_2\n",
        "a_prod = arr_1 * arr_2\n",
        "sqrt_a1 = arr_1 ** .5\n",
        "arr_1_sum = arr_1.sum()\n"
      ],
      "execution_count": 56,
      "outputs": [
        {
          "output_type": "stream",
          "text": [
            "CPU times: user 78.4 ms, sys: 0 ns, total: 78.4 ms\n",
            "Wall time: 79.1 ms\n"
          ],
          "name": "stdout"
        }
      ]
    },
    {
      "cell_type": "markdown",
      "metadata": {
        "id": "7Jc5_Z5wJXWl"
      },
      "source": [
        "If you want more serious benchmarks, take a look at [this](http://brilliantlywrong.blogspot.ru/2015/01/benchmarks-of-speed-numpy-vs-all.html)."
      ]
    },
    {
      "cell_type": "markdown",
      "metadata": {
        "id": "H2cYqf_UJXWm"
      },
      "source": [
        "```\n",
        "\n",
        "```\n",
        "\n",
        "```\n",
        "\n",
        "```\n",
        "\n",
        "```\n",
        "\n",
        "```\n",
        "\n",
        "```\n",
        "\n",
        "```\n",
        "\n",
        "```\n",
        "\n",
        "```\n",
        "\n",
        "```\n",
        "\n",
        "```\n",
        "\n",
        "```\n",
        "\n",
        "```"
      ]
    },
    {
      "cell_type": "markdown",
      "metadata": {
        "id": "OPtaPKy3uI6A"
      },
      "source": [
        "### Other numpy functions and features"
      ]
    },
    {
      "cell_type": "markdown",
      "metadata": {
        "id": "S-8KaYRmuM4m"
      },
      "source": [
        "There's also a bunch of pre-implemented operations including logarithms, trigonometry, vector/matrix products and aggregations."
      ]
    },
    {
      "cell_type": "code",
      "metadata": {
        "id": "RklGSklbJXWn",
        "colab": {
          "base_uri": "https://localhost:8080/"
        },
        "outputId": "9ae3f119-94fd-4440-b9f4-ce1e1c9d6077"
      },
      "source": [
        "a = np.array([1,2,3,4,5])\n",
        "b = np.array([5,4,3,2,1])\n",
        "print(\"numpy.sum(a) = \", np.sum(a))\n",
        "print(\"numpy.mean(a) = \", np.mean(a))\n",
        "print(\"numpy.min(a) = \",  np.min(a))\n",
        "print(\"numpy.argmin(b) = \", np.argmin(b))  # index of minimal element\n",
        "print(\"numpy.dot(a,b) = \", np.dot(a, b))      # dot product. Also used for matrix/tensor multiplication\n",
        "print(\"numpy.unique(['male','male','female','female','male']) = \", np.unique(['male','male','female','female','male']))\n",
        "\n",
        "# and tons of other stuff. see http://bit.ly/2u5q430 ."
      ],
      "execution_count": 57,
      "outputs": [
        {
          "output_type": "stream",
          "text": [
            "numpy.sum(a) =  15\n",
            "numpy.mean(a) =  3.0\n",
            "numpy.min(a) =  1\n",
            "numpy.argmin(b) =  4\n",
            "numpy.dot(a,b) =  35\n",
            "numpy.unique(['male','male','female','female','male']) =  ['female' 'male']\n"
          ],
          "name": "stdout"
        }
      ]
    },
    {
      "cell_type": "code",
      "metadata": {
        "id": "4N_kpGw3NcGk",
        "colab": {
          "base_uri": "https://localhost:8080/"
        },
        "outputId": "bab2e3b9-3989-4adb-9391-850bfa0770ca"
      },
      "source": [
        "# most of this functions are also implemented as members of numpy arrays, e.g.:\n",
        "print('a.min() =', a.min())\n",
        "print('a.mean() =', a.mean())"
      ],
      "execution_count": 58,
      "outputs": [
        {
          "output_type": "stream",
          "text": [
            "a.min() = 1\n",
            "a.mean() = 3.0\n"
          ],
          "name": "stdout"
        }
      ]
    },
    {
      "cell_type": "code",
      "metadata": {
        "id": "Jkq07GT5JXW0",
        "colab": {
          "base_uri": "https://localhost:8080/"
        },
        "outputId": "8d0826ca-75f3-4062-9ad6-aa38314a2b2e"
      },
      "source": [
        "print(\"Boolean operations\")\n",
        "\n",
        "print('a = ', a)\n",
        "print('b = ', b)\n",
        "print(\"a > 2\", a > 2)\n",
        "print(\"numpy.logical_not(a>2) = \", np.logical_not(a>2))\n",
        "print(\"numpy.logical_and(a>2,b>2) = \", np.logical_and(a > 2,b > 2))\n",
        "print(\"numpy.logical_or(a>2,b<3) = \", np.logical_or(a > 2, b < 3))\n",
        "\n",
        "print(\"\\n shortcuts\")\n",
        "print(\"~(a > 2) = \", ~(a > 2))                    #logical_not(a > 2)\n",
        "print(\"(a > 2) & (b > 2) = \", (a > 2) & (b > 2))  #logical_and\n",
        "print(\"(a > 2) | (b < 3) = \", (a > 2) | (b < 3))  #logical_or"
      ],
      "execution_count": 59,
      "outputs": [
        {
          "output_type": "stream",
          "text": [
            "Boolean operations\n",
            "a =  [1 2 3 4 5]\n",
            "b =  [5 4 3 2 1]\n",
            "a > 2 [False False  True  True  True]\n",
            "numpy.logical_not(a>2) =  [ True  True False False False]\n",
            "numpy.logical_and(a>2,b>2) =  [False False  True False False]\n",
            "numpy.logical_or(a>2,b<3) =  [False False  True  True  True]\n",
            "\n",
            " shortcuts\n",
            "~(a > 2) =  [ True  True False False False]\n",
            "(a > 2) & (b > 2) =  [False False  True False False]\n",
            "(a > 2) | (b < 3) =  [False False  True  True  True]\n"
          ],
          "name": "stdout"
        }
      ]
    },
    {
      "cell_type": "markdown",
      "metadata": {
        "id": "VBkDTTOLJXW3"
      },
      "source": [
        "Another numpy feature we'll need is indexing: selecting elements from an array. \n",
        "Aside from python indexes and slices (e.g. a[1:4]), numpy also allows you to select several elements at once."
      ]
    },
    {
      "cell_type": "code",
      "metadata": {
        "id": "RDtdSCMAPyLL",
        "colab": {
          "base_uri": "https://localhost:8080/"
        },
        "outputId": "18946d5b-66ab-4690-b451-5effc7cad0c7"
      },
      "source": [
        "a = np.arange(24*5).reshape(4, 6, 5)\n",
        "# print(a)\n",
        "print('---')\n",
        "print(a[1:3,0:6:2, 2:3])"
      ],
      "execution_count": 62,
      "outputs": [
        {
          "output_type": "stream",
          "text": [
            "---\n",
            "[[[32]\n",
            "  [42]\n",
            "  [52]]\n",
            "\n",
            " [[62]\n",
            "  [72]\n",
            "  [82]]]\n"
          ],
          "name": "stdout"
        }
      ]
    },
    {
      "cell_type": "code",
      "metadata": {
        "id": "MhXHB6fgJXW4",
        "colab": {
          "base_uri": "https://localhost:8080/"
        },
        "outputId": "bdec22e3-682b-4f1d-9a9f-ef89f8c57cdf"
      },
      "source": [
        "a = np.array([0, 1, 4, 9, 16, 25])\n",
        "ix = np.array([1,2,5])\n",
        "print(\"a = \", a)\n",
        "print(\"Select by element index\")\n",
        "print(\"a[[1,2,5]] = \", a[ix])\n",
        "\n",
        "print(\"\\nSelect by boolean mask\")\n",
        "print(\"a[a > 5] = \", a[a > 5])     # select all elements in a that are greater than 5\n",
        "print(\"(a % 2 == 0) =\", a % 2 == 0) # True for even, False for odd\n",
        "print(\"a[a % 2 == 0] =\", a[a % 2 == 0]) # select all elements in a that are even"
      ],
      "execution_count": 64,
      "outputs": [
        {
          "output_type": "stream",
          "text": [
            "a =  [ 0  1  4  9 16 25]\n",
            "Select by element index\n",
            "a[[1,2,5]] =  [ 1  4 25]\n",
            "\n",
            "Select by boolean mask\n",
            "a[a > 5] =  [ 9 16 25]\n",
            "(a % 2 == 0) = [ True False  True False  True False]\n",
            "a[a % 2 == 0] = [ 0  4 16]\n"
          ],
          "name": "stdout"
        }
      ]
    },
    {
      "cell_type": "code",
      "metadata": {
        "colab": {
          "base_uri": "https://localhost:8080/"
        },
        "id": "WQJsSDua8SEl",
        "outputId": "04e6ddff-6729-41ee-9165-b74f978eab2e"
      },
      "source": [
        "l = [1, 2, 3, 1000]\n",
        "l[-1]"
      ],
      "execution_count": 66,
      "outputs": [
        {
          "output_type": "execute_result",
          "data": {
            "text/plain": [
              "1000"
            ]
          },
          "metadata": {
            "tags": []
          },
          "execution_count": 66
        }
      ]
    },
    {
      "cell_type": "code",
      "metadata": {
        "colab": {
          "base_uri": "https://localhost:8080/"
        },
        "id": "Qufq0CnU8xJf",
        "outputId": "640a10d6-42b0-46ee-db32-116a0bae6adf"
      },
      "source": [
        "matrix1[-2:, -1]"
      ],
      "execution_count": 70,
      "outputs": [
        {
          "output_type": "execute_result",
          "data": {
            "text/plain": [
              "array([44, 49])"
            ]
          },
          "metadata": {
            "tags": []
          },
          "execution_count": 70
        }
      ]
    },
    {
      "cell_type": "markdown",
      "metadata": {
        "id": "iD6NjAugj_3y"
      },
      "source": [
        "## Part III: Loading data with Pandas"
      ]
    },
    {
      "cell_type": "markdown",
      "metadata": {
        "id": "K0OYaO-6JXVb"
      },
      "source": [
        "Pandas is a library that helps you load the data, prepare it and perform some lightweight analysis. The god object here is the `pandas.DataFrame` - a 2d table with batteries included (it actually runs numpy under the hood).\n",
        "\n",
        "In the cell below we use it to read the data on the infamous titanic shipwreck."
      ]
    },
    {
      "cell_type": "code",
      "metadata": {
        "id": "4CWHxPY62I-D",
        "colab": {
          "base_uri": "https://localhost:8080/"
        },
        "outputId": "794ad7a5-1ce1-44d0-f3e6-5cf973037cb0"
      },
      "source": [
        "!wget https://github.com/yandexdataschool/MLatImperial2021/raw/master/01_lab/train.csv"
      ],
      "execution_count": 71,
      "outputs": [
        {
          "output_type": "stream",
          "text": [
            "--2021-01-25 14:44:35--  https://github.com/yandexdataschool/MLatImperial2021/raw/master/01_lab/train.csv\n",
            "Resolving github.com (github.com)... 13.114.40.48\n",
            "Connecting to github.com (github.com)|13.114.40.48|:443... connected.\n",
            "HTTP request sent, awaiting response... 302 Found\n",
            "Location: https://raw.githubusercontent.com/yandexdataschool/MLatImperial2021/master/01_lab/train.csv [following]\n",
            "--2021-01-25 14:44:35--  https://raw.githubusercontent.com/yandexdataschool/MLatImperial2021/master/01_lab/train.csv\n",
            "Resolving raw.githubusercontent.com (raw.githubusercontent.com)... 151.101.0.133, 151.101.64.133, 151.101.128.133, ...\n",
            "Connecting to raw.githubusercontent.com (raw.githubusercontent.com)|151.101.0.133|:443... connected.\n",
            "HTTP request sent, awaiting response... 200 OK\n",
            "Length: 60302 (59K) [text/plain]\n",
            "Saving to: ‘train.csv’\n",
            "\n",
            "train.csv           100%[===================>]  58.89K  --.-KB/s    in 0.01s   \n",
            "\n",
            "2021-01-25 14:44:36 (4.54 MB/s) - ‘train.csv’ saved [60302/60302]\n",
            "\n"
          ],
          "name": "stdout"
        }
      ]
    },
    {
      "cell_type": "code",
      "metadata": {
        "colab": {
          "base_uri": "https://localhost:8080/"
        },
        "id": "pDS_VLe6ARX7",
        "outputId": "35330f97-915c-48b1-f30c-9031854aebf4"
      },
      "source": [
        "!head train.csv"
      ],
      "execution_count": 72,
      "outputs": [
        {
          "output_type": "stream",
          "text": [
            "PassengerId,Survived,Pclass,Name,Sex,Age,SibSp,Parch,Ticket,Fare,Cabin,Embarked\n",
            "1,0,3,\"Braund, Mr. Owen Harris\",male,22,1,0,A/5 21171,7.25,,S\n",
            "2,1,1,\"Cumings, Mrs. John Bradley (Florence Briggs Thayer)\",female,38,1,0,PC 17599,71.2833,C85,C\n",
            "3,1,3,\"Heikkinen, Miss. Laina\",female,26,0,0,STON/O2. 3101282,7.925,,S\n",
            "4,1,1,\"Futrelle, Mrs. Jacques Heath (Lily May Peel)\",female,35,1,0,113803,53.1,C123,S\n",
            "5,0,3,\"Allen, Mr. William Henry\",male,35,0,0,373450,8.05,,S\n",
            "6,0,3,\"Moran, Mr. James\",male,,0,0,330877,8.4583,,Q\n",
            "7,0,1,\"McCarthy, Mr. Timothy J\",male,54,0,0,17463,51.8625,E46,S\n",
            "8,0,3,\"Palsson, Master. Gosta Leonard\",male,2,3,1,349909,21.075,,S\n",
            "9,1,3,\"Johnson, Mrs. Oscar W (Elisabeth Vilhelmina Berg)\",female,27,0,2,347742,11.1333,,S\n"
          ],
          "name": "stdout"
        }
      ]
    },
    {
      "cell_type": "code",
      "metadata": {
        "id": "G36oVo3RJXVc"
      },
      "source": [
        "import pandas as pd\n",
        "data = pd.read_csv(\"train.csv\", index_col='PassengerId') # this yields a pandas.DataFrame"
      ],
      "execution_count": 73,
      "outputs": []
    },
    {
      "cell_type": "code",
      "metadata": {
        "id": "gEvLO4nvJXVf",
        "colab": {
          "base_uri": "https://localhost:8080/",
          "height": 359
        },
        "outputId": "8a3193b6-4569-454b-a817-f6cb4af2d0cc"
      },
      "source": [
        "# Take a look at the data\n",
        "\n",
        "data.head() # selects top 5 lines"
      ],
      "execution_count": 74,
      "outputs": [
        {
          "output_type": "execute_result",
          "data": {
            "text/html": [
              "<div>\n",
              "<style scoped>\n",
              "    .dataframe tbody tr th:only-of-type {\n",
              "        vertical-align: middle;\n",
              "    }\n",
              "\n",
              "    .dataframe tbody tr th {\n",
              "        vertical-align: top;\n",
              "    }\n",
              "\n",
              "    .dataframe thead th {\n",
              "        text-align: right;\n",
              "    }\n",
              "</style>\n",
              "<table border=\"1\" class=\"dataframe\">\n",
              "  <thead>\n",
              "    <tr style=\"text-align: right;\">\n",
              "      <th></th>\n",
              "      <th>Survived</th>\n",
              "      <th>Pclass</th>\n",
              "      <th>Name</th>\n",
              "      <th>Sex</th>\n",
              "      <th>Age</th>\n",
              "      <th>SibSp</th>\n",
              "      <th>Parch</th>\n",
              "      <th>Ticket</th>\n",
              "      <th>Fare</th>\n",
              "      <th>Cabin</th>\n",
              "      <th>Embarked</th>\n",
              "    </tr>\n",
              "    <tr>\n",
              "      <th>PassengerId</th>\n",
              "      <th></th>\n",
              "      <th></th>\n",
              "      <th></th>\n",
              "      <th></th>\n",
              "      <th></th>\n",
              "      <th></th>\n",
              "      <th></th>\n",
              "      <th></th>\n",
              "      <th></th>\n",
              "      <th></th>\n",
              "      <th></th>\n",
              "    </tr>\n",
              "  </thead>\n",
              "  <tbody>\n",
              "    <tr>\n",
              "      <th>1</th>\n",
              "      <td>0</td>\n",
              "      <td>3</td>\n",
              "      <td>Braund, Mr. Owen Harris</td>\n",
              "      <td>male</td>\n",
              "      <td>22.0</td>\n",
              "      <td>1</td>\n",
              "      <td>0</td>\n",
              "      <td>A/5 21171</td>\n",
              "      <td>7.2500</td>\n",
              "      <td>NaN</td>\n",
              "      <td>S</td>\n",
              "    </tr>\n",
              "    <tr>\n",
              "      <th>2</th>\n",
              "      <td>1</td>\n",
              "      <td>1</td>\n",
              "      <td>Cumings, Mrs. John Bradley (Florence Briggs Th...</td>\n",
              "      <td>female</td>\n",
              "      <td>38.0</td>\n",
              "      <td>1</td>\n",
              "      <td>0</td>\n",
              "      <td>PC 17599</td>\n",
              "      <td>71.2833</td>\n",
              "      <td>C85</td>\n",
              "      <td>C</td>\n",
              "    </tr>\n",
              "    <tr>\n",
              "      <th>3</th>\n",
              "      <td>1</td>\n",
              "      <td>3</td>\n",
              "      <td>Heikkinen, Miss. Laina</td>\n",
              "      <td>female</td>\n",
              "      <td>26.0</td>\n",
              "      <td>0</td>\n",
              "      <td>0</td>\n",
              "      <td>STON/O2. 3101282</td>\n",
              "      <td>7.9250</td>\n",
              "      <td>NaN</td>\n",
              "      <td>S</td>\n",
              "    </tr>\n",
              "    <tr>\n",
              "      <th>4</th>\n",
              "      <td>1</td>\n",
              "      <td>1</td>\n",
              "      <td>Futrelle, Mrs. Jacques Heath (Lily May Peel)</td>\n",
              "      <td>female</td>\n",
              "      <td>35.0</td>\n",
              "      <td>1</td>\n",
              "      <td>0</td>\n",
              "      <td>113803</td>\n",
              "      <td>53.1000</td>\n",
              "      <td>C123</td>\n",
              "      <td>S</td>\n",
              "    </tr>\n",
              "    <tr>\n",
              "      <th>5</th>\n",
              "      <td>0</td>\n",
              "      <td>3</td>\n",
              "      <td>Allen, Mr. William Henry</td>\n",
              "      <td>male</td>\n",
              "      <td>35.0</td>\n",
              "      <td>0</td>\n",
              "      <td>0</td>\n",
              "      <td>373450</td>\n",
              "      <td>8.0500</td>\n",
              "      <td>NaN</td>\n",
              "      <td>S</td>\n",
              "    </tr>\n",
              "  </tbody>\n",
              "</table>\n",
              "</div>"
            ],
            "text/plain": [
              "             Survived  Pclass  ... Cabin Embarked\n",
              "PassengerId                    ...               \n",
              "1                   0       3  ...   NaN        S\n",
              "2                   1       1  ...   C85        C\n",
              "3                   1       3  ...   NaN        S\n",
              "4                   1       1  ...  C123        S\n",
              "5                   0       3  ...   NaN        S\n",
              "\n",
              "[5 rows x 11 columns]"
            ]
          },
          "metadata": {
            "tags": []
          },
          "execution_count": 74
        }
      ]
    },
    {
      "cell_type": "markdown",
      "metadata": {
        "id": "EDHw3sHgJXVj"
      },
      "source": [
        "#### About the data\n",
        "Here's some of the columns\n",
        "* Name - a string with person's full name\n",
        "* Survived - 1 if a person survived the shipwreck, 0 otherwise.\n",
        "* Pclass - passenger class. Pclass == 3 is cheap'n'cheerful, Pclass == 1 is for moneybags.\n",
        "* Sex - a person's gender\n",
        "* Age - age in years, if available\n",
        "* Sibsp - number of siblings on a ship\n",
        "* Parch - number of parents on a ship\n",
        "* Fare - ticket cost\n",
        "* Embarked - port where the passenger embarked\n",
        " * C = Cherbourg; Q = Queenstown; S = Southampton"
      ]
    },
    {
      "cell_type": "code",
      "metadata": {
        "id": "PWmRBFP6JXVl",
        "colab": {
          "base_uri": "https://localhost:8080/"
        },
        "outputId": "ded90e65-db79-448a-9612-2105589688b8"
      },
      "source": [
        "# table dimensions\n",
        "print(\"len(data) = \", len(data))\n",
        "print(\"data.shape = \", data.shape)"
      ],
      "execution_count": 75,
      "outputs": [
        {
          "output_type": "stream",
          "text": [
            "len(data) =  891\n",
            "data.shape =  (891, 11)\n"
          ],
          "name": "stdout"
        }
      ]
    },
    {
      "cell_type": "code",
      "metadata": {
        "id": "dt6itIHBJXVn",
        "colab": {
          "base_uri": "https://localhost:8080/"
        },
        "outputId": "5b4d2141-cd64-4927-c3d2-53e895c535bb"
      },
      "source": [
        "# select a single row\n",
        "print(data.loc[4])"
      ],
      "execution_count": 76,
      "outputs": [
        {
          "output_type": "stream",
          "text": [
            "Survived                                               1\n",
            "Pclass                                                 1\n",
            "Name        Futrelle, Mrs. Jacques Heath (Lily May Peel)\n",
            "Sex                                               female\n",
            "Age                                                   35\n",
            "SibSp                                                  1\n",
            "Parch                                                  0\n",
            "Ticket                                            113803\n",
            "Fare                                                53.1\n",
            "Cabin                                               C123\n",
            "Embarked                                               S\n",
            "Name: 4, dtype: object\n"
          ],
          "name": "stdout"
        }
      ]
    },
    {
      "cell_type": "code",
      "metadata": {
        "id": "wdpiKMr7JXVq",
        "colab": {
          "base_uri": "https://localhost:8080/"
        },
        "outputId": "4ce47be8-009d-46d0-ebc8-182ff6fa0356"
      },
      "source": [
        "# select a single column.\n",
        "ages = data[\"Age\"] # alternatively: data.Age\n",
        "print(ages.loc[:10])"
      ],
      "execution_count": 77,
      "outputs": [
        {
          "output_type": "stream",
          "text": [
            "PassengerId\n",
            "1     22.0\n",
            "2     38.0\n",
            "3     26.0\n",
            "4     35.0\n",
            "5     35.0\n",
            "6      NaN\n",
            "7     54.0\n",
            "8      2.0\n",
            "9     27.0\n",
            "10    14.0\n",
            "Name: Age, dtype: float64\n"
          ],
          "name": "stdout"
        }
      ]
    },
    {
      "cell_type": "code",
      "metadata": {
        "id": "-ao3OhDtJXVu",
        "colab": {
          "base_uri": "https://localhost:8080/",
          "height": 254
        },
        "outputId": "82b761c7-34e5-4c6a-ffa5-22656a4048a9"
      },
      "source": [
        "# select several columns and rows at once\n",
        "data.loc[5:10, (\"Fare\", \"Pclass\")]    # alternatively: data[[\"Fare\",\"Pclass\"]].loc[5:10]"
      ],
      "execution_count": 78,
      "outputs": [
        {
          "output_type": "execute_result",
          "data": {
            "text/html": [
              "<div>\n",
              "<style scoped>\n",
              "    .dataframe tbody tr th:only-of-type {\n",
              "        vertical-align: middle;\n",
              "    }\n",
              "\n",
              "    .dataframe tbody tr th {\n",
              "        vertical-align: top;\n",
              "    }\n",
              "\n",
              "    .dataframe thead th {\n",
              "        text-align: right;\n",
              "    }\n",
              "</style>\n",
              "<table border=\"1\" class=\"dataframe\">\n",
              "  <thead>\n",
              "    <tr style=\"text-align: right;\">\n",
              "      <th></th>\n",
              "      <th>Fare</th>\n",
              "      <th>Pclass</th>\n",
              "    </tr>\n",
              "    <tr>\n",
              "      <th>PassengerId</th>\n",
              "      <th></th>\n",
              "      <th></th>\n",
              "    </tr>\n",
              "  </thead>\n",
              "  <tbody>\n",
              "    <tr>\n",
              "      <th>5</th>\n",
              "      <td>8.0500</td>\n",
              "      <td>3</td>\n",
              "    </tr>\n",
              "    <tr>\n",
              "      <th>6</th>\n",
              "      <td>8.4583</td>\n",
              "      <td>3</td>\n",
              "    </tr>\n",
              "    <tr>\n",
              "      <th>7</th>\n",
              "      <td>51.8625</td>\n",
              "      <td>1</td>\n",
              "    </tr>\n",
              "    <tr>\n",
              "      <th>8</th>\n",
              "      <td>21.0750</td>\n",
              "      <td>3</td>\n",
              "    </tr>\n",
              "    <tr>\n",
              "      <th>9</th>\n",
              "      <td>11.1333</td>\n",
              "      <td>3</td>\n",
              "    </tr>\n",
              "    <tr>\n",
              "      <th>10</th>\n",
              "      <td>30.0708</td>\n",
              "      <td>2</td>\n",
              "    </tr>\n",
              "  </tbody>\n",
              "</table>\n",
              "</div>"
            ],
            "text/plain": [
              "                Fare  Pclass\n",
              "PassengerId                 \n",
              "5             8.0500       3\n",
              "6             8.4583       3\n",
              "7            51.8625       1\n",
              "8            21.0750       3\n",
              "9            11.1333       3\n",
              "10           30.0708       2"
            ]
          },
          "metadata": {
            "tags": []
          },
          "execution_count": 78
        }
      ]
    },
    {
      "cell_type": "markdown",
      "metadata": {
        "id": "h7jqzyjLp9qe"
      },
      "source": [
        "### `loc` vs `iloc`"
      ]
    },
    {
      "cell_type": "markdown",
      "metadata": {
        "id": "qR-MSiiiqDB4"
      },
      "source": [
        "There are two ways of indexing the rows in pandas:\n",
        " *   by index column values (`PassengerId` in our case) – use `data.loc` for that\n",
        " *   by positional index - use `data.iloc` for that"
      ]
    },
    {
      "cell_type": "markdown",
      "metadata": {
        "id": "uXCOFn0Fqr1M"
      },
      "source": [
        "Note that index column starts from 1, so positional index 0 will correspond to index column value 1, positional 1 to index column value 2, and so on:"
      ]
    },
    {
      "cell_type": "code",
      "metadata": {
        "id": "PWD9vfcIqjAH",
        "colab": {
          "base_uri": "https://localhost:8080/"
        },
        "outputId": "5a75c7f5-8639-44ee-875a-98236fae1bc1"
      },
      "source": [
        "print(data.index)\n",
        "print('------')\n",
        "print(\"data.iloc[0]:\")\n",
        "print(data.iloc[0])\n",
        "print('------')\n",
        "print(\"data.loc[1]:\")\n",
        "print(data.loc[1])"
      ],
      "execution_count": 79,
      "outputs": [
        {
          "output_type": "stream",
          "text": [
            "Int64Index([  1,   2,   3,   4,   5,   6,   7,   8,   9,  10,\n",
            "            ...\n",
            "            882, 883, 884, 885, 886, 887, 888, 889, 890, 891],\n",
            "           dtype='int64', name='PassengerId', length=891)\n",
            "------\n",
            "data.iloc[0]:\n",
            "Survived                          0\n",
            "Pclass                            3\n",
            "Name        Braund, Mr. Owen Harris\n",
            "Sex                            male\n",
            "Age                              22\n",
            "SibSp                             1\n",
            "Parch                             0\n",
            "Ticket                    A/5 21171\n",
            "Fare                           7.25\n",
            "Cabin                           NaN\n",
            "Embarked                          S\n",
            "Name: 1, dtype: object\n",
            "------\n",
            "data.loc[1]:\n",
            "Survived                          0\n",
            "Pclass                            3\n",
            "Name        Braund, Mr. Owen Harris\n",
            "Sex                            male\n",
            "Age                              22\n",
            "SibSp                             1\n",
            "Parch                             0\n",
            "Ticket                    A/5 21171\n",
            "Fare                           7.25\n",
            "Cabin                           NaN\n",
            "Embarked                          S\n",
            "Name: 1, dtype: object\n"
          ],
          "name": "stdout"
        }
      ]
    },
    {
      "cell_type": "markdown",
      "metadata": {
        "id": "zqkU4nzfgxok"
      },
      "source": [
        "Also note that when indexing with `.loc` both slice ends are included:"
      ]
    },
    {
      "cell_type": "code",
      "metadata": {
        "id": "lI0C2cG8g3To",
        "colab": {
          "base_uri": "https://localhost:8080/",
          "height": 203
        },
        "outputId": "04b0ea7b-be1d-4e2a-997c-f1a9f4115bdc"
      },
      "source": [
        "data.loc[2:3]"
      ],
      "execution_count": 80,
      "outputs": [
        {
          "output_type": "execute_result",
          "data": {
            "text/html": [
              "<div>\n",
              "<style scoped>\n",
              "    .dataframe tbody tr th:only-of-type {\n",
              "        vertical-align: middle;\n",
              "    }\n",
              "\n",
              "    .dataframe tbody tr th {\n",
              "        vertical-align: top;\n",
              "    }\n",
              "\n",
              "    .dataframe thead th {\n",
              "        text-align: right;\n",
              "    }\n",
              "</style>\n",
              "<table border=\"1\" class=\"dataframe\">\n",
              "  <thead>\n",
              "    <tr style=\"text-align: right;\">\n",
              "      <th></th>\n",
              "      <th>Survived</th>\n",
              "      <th>Pclass</th>\n",
              "      <th>Name</th>\n",
              "      <th>Sex</th>\n",
              "      <th>Age</th>\n",
              "      <th>SibSp</th>\n",
              "      <th>Parch</th>\n",
              "      <th>Ticket</th>\n",
              "      <th>Fare</th>\n",
              "      <th>Cabin</th>\n",
              "      <th>Embarked</th>\n",
              "    </tr>\n",
              "    <tr>\n",
              "      <th>PassengerId</th>\n",
              "      <th></th>\n",
              "      <th></th>\n",
              "      <th></th>\n",
              "      <th></th>\n",
              "      <th></th>\n",
              "      <th></th>\n",
              "      <th></th>\n",
              "      <th></th>\n",
              "      <th></th>\n",
              "      <th></th>\n",
              "      <th></th>\n",
              "    </tr>\n",
              "  </thead>\n",
              "  <tbody>\n",
              "    <tr>\n",
              "      <th>2</th>\n",
              "      <td>1</td>\n",
              "      <td>1</td>\n",
              "      <td>Cumings, Mrs. John Bradley (Florence Briggs Th...</td>\n",
              "      <td>female</td>\n",
              "      <td>38.0</td>\n",
              "      <td>1</td>\n",
              "      <td>0</td>\n",
              "      <td>PC 17599</td>\n",
              "      <td>71.2833</td>\n",
              "      <td>C85</td>\n",
              "      <td>C</td>\n",
              "    </tr>\n",
              "    <tr>\n",
              "      <th>3</th>\n",
              "      <td>1</td>\n",
              "      <td>3</td>\n",
              "      <td>Heikkinen, Miss. Laina</td>\n",
              "      <td>female</td>\n",
              "      <td>26.0</td>\n",
              "      <td>0</td>\n",
              "      <td>0</td>\n",
              "      <td>STON/O2. 3101282</td>\n",
              "      <td>7.9250</td>\n",
              "      <td>NaN</td>\n",
              "      <td>S</td>\n",
              "    </tr>\n",
              "  </tbody>\n",
              "</table>\n",
              "</div>"
            ],
            "text/plain": [
              "             Survived  Pclass  ... Cabin Embarked\n",
              "PassengerId                    ...               \n",
              "2                   1       1  ...   C85        C\n",
              "3                   1       3  ...   NaN        S\n",
              "\n",
              "[2 rows x 11 columns]"
            ]
          },
          "metadata": {
            "tags": []
          },
          "execution_count": 80
        }
      ]
    },
    {
      "cell_type": "markdown",
      "metadata": {
        "id": "kMf9SqMwg7Uw"
      },
      "source": [
        "while with `.iloc` the end is excluded:"
      ]
    },
    {
      "cell_type": "code",
      "metadata": {
        "id": "S5JFLNVag6aP",
        "colab": {
          "base_uri": "https://localhost:8080/",
          "height": 140
        },
        "outputId": "770f4b5f-aa36-4548-d9d1-11e820b1069c"
      },
      "source": [
        "data.iloc[1:2]"
      ],
      "execution_count": 81,
      "outputs": [
        {
          "output_type": "execute_result",
          "data": {
            "text/html": [
              "<div>\n",
              "<style scoped>\n",
              "    .dataframe tbody tr th:only-of-type {\n",
              "        vertical-align: middle;\n",
              "    }\n",
              "\n",
              "    .dataframe tbody tr th {\n",
              "        vertical-align: top;\n",
              "    }\n",
              "\n",
              "    .dataframe thead th {\n",
              "        text-align: right;\n",
              "    }\n",
              "</style>\n",
              "<table border=\"1\" class=\"dataframe\">\n",
              "  <thead>\n",
              "    <tr style=\"text-align: right;\">\n",
              "      <th></th>\n",
              "      <th>Survived</th>\n",
              "      <th>Pclass</th>\n",
              "      <th>Name</th>\n",
              "      <th>Sex</th>\n",
              "      <th>Age</th>\n",
              "      <th>SibSp</th>\n",
              "      <th>Parch</th>\n",
              "      <th>Ticket</th>\n",
              "      <th>Fare</th>\n",
              "      <th>Cabin</th>\n",
              "      <th>Embarked</th>\n",
              "    </tr>\n",
              "    <tr>\n",
              "      <th>PassengerId</th>\n",
              "      <th></th>\n",
              "      <th></th>\n",
              "      <th></th>\n",
              "      <th></th>\n",
              "      <th></th>\n",
              "      <th></th>\n",
              "      <th></th>\n",
              "      <th></th>\n",
              "      <th></th>\n",
              "      <th></th>\n",
              "      <th></th>\n",
              "    </tr>\n",
              "  </thead>\n",
              "  <tbody>\n",
              "    <tr>\n",
              "      <th>2</th>\n",
              "      <td>1</td>\n",
              "      <td>1</td>\n",
              "      <td>Cumings, Mrs. John Bradley (Florence Briggs Th...</td>\n",
              "      <td>female</td>\n",
              "      <td>38.0</td>\n",
              "      <td>1</td>\n",
              "      <td>0</td>\n",
              "      <td>PC 17599</td>\n",
              "      <td>71.2833</td>\n",
              "      <td>C85</td>\n",
              "      <td>C</td>\n",
              "    </tr>\n",
              "  </tbody>\n",
              "</table>\n",
              "</div>"
            ],
            "text/plain": [
              "             Survived  Pclass  ... Cabin Embarked\n",
              "PassengerId                    ...               \n",
              "2                   1       1  ...   C85        C\n",
              "\n",
              "[1 rows x 11 columns]"
            ]
          },
          "metadata": {
            "tags": []
          },
          "execution_count": 81
        }
      ]
    },
    {
      "cell_type": "markdown",
      "metadata": {
        "id": "FJgo08cJi6i6"
      },
      "source": [
        "More complicated indexing (similar to boolean indexing in numpy):"
      ]
    },
    {
      "cell_type": "code",
      "metadata": {
        "id": "aMkc1lqHPjAo",
        "colab": {
          "base_uri": "https://localhost:8080/",
          "height": 1000
        },
        "outputId": "3f2bfe64-c76f-48d0-ec44-40016c6594dc"
      },
      "source": [
        "print(\"data[(data['Age'] < 18) & (data['Sex'] == 'male')] = (below)\") # select male children\n",
        "data.loc[(data['Age'] < 18) & (data['Sex'] == 'male')]"
      ],
      "execution_count": 82,
      "outputs": [
        {
          "output_type": "stream",
          "text": [
            "data[(data['Age'] < 18) & (data['Sex'] == 'male')] = (below)\n"
          ],
          "name": "stdout"
        },
        {
          "output_type": "execute_result",
          "data": {
            "text/html": [
              "<div>\n",
              "<style scoped>\n",
              "    .dataframe tbody tr th:only-of-type {\n",
              "        vertical-align: middle;\n",
              "    }\n",
              "\n",
              "    .dataframe tbody tr th {\n",
              "        vertical-align: top;\n",
              "    }\n",
              "\n",
              "    .dataframe thead th {\n",
              "        text-align: right;\n",
              "    }\n",
              "</style>\n",
              "<table border=\"1\" class=\"dataframe\">\n",
              "  <thead>\n",
              "    <tr style=\"text-align: right;\">\n",
              "      <th></th>\n",
              "      <th>Survived</th>\n",
              "      <th>Pclass</th>\n",
              "      <th>Name</th>\n",
              "      <th>Sex</th>\n",
              "      <th>Age</th>\n",
              "      <th>SibSp</th>\n",
              "      <th>Parch</th>\n",
              "      <th>Ticket</th>\n",
              "      <th>Fare</th>\n",
              "      <th>Cabin</th>\n",
              "      <th>Embarked</th>\n",
              "    </tr>\n",
              "    <tr>\n",
              "      <th>PassengerId</th>\n",
              "      <th></th>\n",
              "      <th></th>\n",
              "      <th></th>\n",
              "      <th></th>\n",
              "      <th></th>\n",
              "      <th></th>\n",
              "      <th></th>\n",
              "      <th></th>\n",
              "      <th></th>\n",
              "      <th></th>\n",
              "      <th></th>\n",
              "    </tr>\n",
              "  </thead>\n",
              "  <tbody>\n",
              "    <tr>\n",
              "      <th>8</th>\n",
              "      <td>0</td>\n",
              "      <td>3</td>\n",
              "      <td>Palsson, Master. Gosta Leonard</td>\n",
              "      <td>male</td>\n",
              "      <td>2.00</td>\n",
              "      <td>3</td>\n",
              "      <td>1</td>\n",
              "      <td>349909</td>\n",
              "      <td>21.0750</td>\n",
              "      <td>NaN</td>\n",
              "      <td>S</td>\n",
              "    </tr>\n",
              "    <tr>\n",
              "      <th>17</th>\n",
              "      <td>0</td>\n",
              "      <td>3</td>\n",
              "      <td>Rice, Master. Eugene</td>\n",
              "      <td>male</td>\n",
              "      <td>2.00</td>\n",
              "      <td>4</td>\n",
              "      <td>1</td>\n",
              "      <td>382652</td>\n",
              "      <td>29.1250</td>\n",
              "      <td>NaN</td>\n",
              "      <td>Q</td>\n",
              "    </tr>\n",
              "    <tr>\n",
              "      <th>51</th>\n",
              "      <td>0</td>\n",
              "      <td>3</td>\n",
              "      <td>Panula, Master. Juha Niilo</td>\n",
              "      <td>male</td>\n",
              "      <td>7.00</td>\n",
              "      <td>4</td>\n",
              "      <td>1</td>\n",
              "      <td>3101295</td>\n",
              "      <td>39.6875</td>\n",
              "      <td>NaN</td>\n",
              "      <td>S</td>\n",
              "    </tr>\n",
              "    <tr>\n",
              "      <th>60</th>\n",
              "      <td>0</td>\n",
              "      <td>3</td>\n",
              "      <td>Goodwin, Master. William Frederick</td>\n",
              "      <td>male</td>\n",
              "      <td>11.00</td>\n",
              "      <td>5</td>\n",
              "      <td>2</td>\n",
              "      <td>CA 2144</td>\n",
              "      <td>46.9000</td>\n",
              "      <td>NaN</td>\n",
              "      <td>S</td>\n",
              "    </tr>\n",
              "    <tr>\n",
              "      <th>64</th>\n",
              "      <td>0</td>\n",
              "      <td>3</td>\n",
              "      <td>Skoog, Master. Harald</td>\n",
              "      <td>male</td>\n",
              "      <td>4.00</td>\n",
              "      <td>3</td>\n",
              "      <td>2</td>\n",
              "      <td>347088</td>\n",
              "      <td>27.9000</td>\n",
              "      <td>NaN</td>\n",
              "      <td>S</td>\n",
              "    </tr>\n",
              "    <tr>\n",
              "      <th>79</th>\n",
              "      <td>1</td>\n",
              "      <td>2</td>\n",
              "      <td>Caldwell, Master. Alden Gates</td>\n",
              "      <td>male</td>\n",
              "      <td>0.83</td>\n",
              "      <td>0</td>\n",
              "      <td>2</td>\n",
              "      <td>248738</td>\n",
              "      <td>29.0000</td>\n",
              "      <td>NaN</td>\n",
              "      <td>S</td>\n",
              "    </tr>\n",
              "    <tr>\n",
              "      <th>87</th>\n",
              "      <td>0</td>\n",
              "      <td>3</td>\n",
              "      <td>Ford, Mr. William Neal</td>\n",
              "      <td>male</td>\n",
              "      <td>16.00</td>\n",
              "      <td>1</td>\n",
              "      <td>3</td>\n",
              "      <td>W./C. 6608</td>\n",
              "      <td>34.3750</td>\n",
              "      <td>NaN</td>\n",
              "      <td>S</td>\n",
              "    </tr>\n",
              "    <tr>\n",
              "      <th>126</th>\n",
              "      <td>1</td>\n",
              "      <td>3</td>\n",
              "      <td>Nicola-Yarred, Master. Elias</td>\n",
              "      <td>male</td>\n",
              "      <td>12.00</td>\n",
              "      <td>1</td>\n",
              "      <td>0</td>\n",
              "      <td>2651</td>\n",
              "      <td>11.2417</td>\n",
              "      <td>NaN</td>\n",
              "      <td>C</td>\n",
              "    </tr>\n",
              "    <tr>\n",
              "      <th>139</th>\n",
              "      <td>0</td>\n",
              "      <td>3</td>\n",
              "      <td>Osen, Mr. Olaf Elon</td>\n",
              "      <td>male</td>\n",
              "      <td>16.00</td>\n",
              "      <td>0</td>\n",
              "      <td>0</td>\n",
              "      <td>7534</td>\n",
              "      <td>9.2167</td>\n",
              "      <td>NaN</td>\n",
              "      <td>S</td>\n",
              "    </tr>\n",
              "    <tr>\n",
              "      <th>164</th>\n",
              "      <td>0</td>\n",
              "      <td>3</td>\n",
              "      <td>Calic, Mr. Jovo</td>\n",
              "      <td>male</td>\n",
              "      <td>17.00</td>\n",
              "      <td>0</td>\n",
              "      <td>0</td>\n",
              "      <td>315093</td>\n",
              "      <td>8.6625</td>\n",
              "      <td>NaN</td>\n",
              "      <td>S</td>\n",
              "    </tr>\n",
              "    <tr>\n",
              "      <th>165</th>\n",
              "      <td>0</td>\n",
              "      <td>3</td>\n",
              "      <td>Panula, Master. Eino Viljami</td>\n",
              "      <td>male</td>\n",
              "      <td>1.00</td>\n",
              "      <td>4</td>\n",
              "      <td>1</td>\n",
              "      <td>3101295</td>\n",
              "      <td>39.6875</td>\n",
              "      <td>NaN</td>\n",
              "      <td>S</td>\n",
              "    </tr>\n",
              "    <tr>\n",
              "      <th>166</th>\n",
              "      <td>1</td>\n",
              "      <td>3</td>\n",
              "      <td>Goldsmith, Master. Frank John William \"Frankie\"</td>\n",
              "      <td>male</td>\n",
              "      <td>9.00</td>\n",
              "      <td>0</td>\n",
              "      <td>2</td>\n",
              "      <td>363291</td>\n",
              "      <td>20.5250</td>\n",
              "      <td>NaN</td>\n",
              "      <td>S</td>\n",
              "    </tr>\n",
              "    <tr>\n",
              "      <th>172</th>\n",
              "      <td>0</td>\n",
              "      <td>3</td>\n",
              "      <td>Rice, Master. Arthur</td>\n",
              "      <td>male</td>\n",
              "      <td>4.00</td>\n",
              "      <td>4</td>\n",
              "      <td>1</td>\n",
              "      <td>382652</td>\n",
              "      <td>29.1250</td>\n",
              "      <td>NaN</td>\n",
              "      <td>Q</td>\n",
              "    </tr>\n",
              "    <tr>\n",
              "      <th>183</th>\n",
              "      <td>0</td>\n",
              "      <td>3</td>\n",
              "      <td>Asplund, Master. Clarence Gustaf Hugo</td>\n",
              "      <td>male</td>\n",
              "      <td>9.00</td>\n",
              "      <td>4</td>\n",
              "      <td>2</td>\n",
              "      <td>347077</td>\n",
              "      <td>31.3875</td>\n",
              "      <td>NaN</td>\n",
              "      <td>S</td>\n",
              "    </tr>\n",
              "    <tr>\n",
              "      <th>184</th>\n",
              "      <td>1</td>\n",
              "      <td>2</td>\n",
              "      <td>Becker, Master. Richard F</td>\n",
              "      <td>male</td>\n",
              "      <td>1.00</td>\n",
              "      <td>2</td>\n",
              "      <td>1</td>\n",
              "      <td>230136</td>\n",
              "      <td>39.0000</td>\n",
              "      <td>F4</td>\n",
              "      <td>S</td>\n",
              "    </tr>\n",
              "    <tr>\n",
              "      <th>194</th>\n",
              "      <td>1</td>\n",
              "      <td>2</td>\n",
              "      <td>Navratil, Master. Michel M</td>\n",
              "      <td>male</td>\n",
              "      <td>3.00</td>\n",
              "      <td>1</td>\n",
              "      <td>1</td>\n",
              "      <td>230080</td>\n",
              "      <td>26.0000</td>\n",
              "      <td>F2</td>\n",
              "      <td>S</td>\n",
              "    </tr>\n",
              "    <tr>\n",
              "      <th>221</th>\n",
              "      <td>1</td>\n",
              "      <td>3</td>\n",
              "      <td>Sunderland, Mr. Victor Francis</td>\n",
              "      <td>male</td>\n",
              "      <td>16.00</td>\n",
              "      <td>0</td>\n",
              "      <td>0</td>\n",
              "      <td>SOTON/OQ 392089</td>\n",
              "      <td>8.0500</td>\n",
              "      <td>NaN</td>\n",
              "      <td>S</td>\n",
              "    </tr>\n",
              "    <tr>\n",
              "      <th>262</th>\n",
              "      <td>1</td>\n",
              "      <td>3</td>\n",
              "      <td>Asplund, Master. Edvin Rojj Felix</td>\n",
              "      <td>male</td>\n",
              "      <td>3.00</td>\n",
              "      <td>4</td>\n",
              "      <td>2</td>\n",
              "      <td>347077</td>\n",
              "      <td>31.3875</td>\n",
              "      <td>NaN</td>\n",
              "      <td>S</td>\n",
              "    </tr>\n",
              "    <tr>\n",
              "      <th>267</th>\n",
              "      <td>0</td>\n",
              "      <td>3</td>\n",
              "      <td>Panula, Mr. Ernesti Arvid</td>\n",
              "      <td>male</td>\n",
              "      <td>16.00</td>\n",
              "      <td>4</td>\n",
              "      <td>1</td>\n",
              "      <td>3101295</td>\n",
              "      <td>39.6875</td>\n",
              "      <td>NaN</td>\n",
              "      <td>S</td>\n",
              "    </tr>\n",
              "    <tr>\n",
              "      <th>279</th>\n",
              "      <td>0</td>\n",
              "      <td>3</td>\n",
              "      <td>Rice, Master. Eric</td>\n",
              "      <td>male</td>\n",
              "      <td>7.00</td>\n",
              "      <td>4</td>\n",
              "      <td>1</td>\n",
              "      <td>382652</td>\n",
              "      <td>29.1250</td>\n",
              "      <td>NaN</td>\n",
              "      <td>Q</td>\n",
              "    </tr>\n",
              "    <tr>\n",
              "      <th>283</th>\n",
              "      <td>0</td>\n",
              "      <td>3</td>\n",
              "      <td>de Pelsmaeker, Mr. Alfons</td>\n",
              "      <td>male</td>\n",
              "      <td>16.00</td>\n",
              "      <td>0</td>\n",
              "      <td>0</td>\n",
              "      <td>345778</td>\n",
              "      <td>9.5000</td>\n",
              "      <td>NaN</td>\n",
              "      <td>S</td>\n",
              "    </tr>\n",
              "    <tr>\n",
              "      <th>306</th>\n",
              "      <td>1</td>\n",
              "      <td>1</td>\n",
              "      <td>Allison, Master. Hudson Trevor</td>\n",
              "      <td>male</td>\n",
              "      <td>0.92</td>\n",
              "      <td>1</td>\n",
              "      <td>2</td>\n",
              "      <td>113781</td>\n",
              "      <td>151.5500</td>\n",
              "      <td>C22 C26</td>\n",
              "      <td>S</td>\n",
              "    </tr>\n",
              "    <tr>\n",
              "      <th>334</th>\n",
              "      <td>0</td>\n",
              "      <td>3</td>\n",
              "      <td>Vander Planke, Mr. Leo Edmondus</td>\n",
              "      <td>male</td>\n",
              "      <td>16.00</td>\n",
              "      <td>2</td>\n",
              "      <td>0</td>\n",
              "      <td>345764</td>\n",
              "      <td>18.0000</td>\n",
              "      <td>NaN</td>\n",
              "      <td>S</td>\n",
              "    </tr>\n",
              "    <tr>\n",
              "      <th>341</th>\n",
              "      <td>1</td>\n",
              "      <td>2</td>\n",
              "      <td>Navratil, Master. Edmond Roger</td>\n",
              "      <td>male</td>\n",
              "      <td>2.00</td>\n",
              "      <td>1</td>\n",
              "      <td>1</td>\n",
              "      <td>230080</td>\n",
              "      <td>26.0000</td>\n",
              "      <td>F2</td>\n",
              "      <td>S</td>\n",
              "    </tr>\n",
              "    <tr>\n",
              "      <th>349</th>\n",
              "      <td>1</td>\n",
              "      <td>3</td>\n",
              "      <td>Coutts, Master. William Loch \"William\"</td>\n",
              "      <td>male</td>\n",
              "      <td>3.00</td>\n",
              "      <td>1</td>\n",
              "      <td>1</td>\n",
              "      <td>C.A. 37671</td>\n",
              "      <td>15.9000</td>\n",
              "      <td>NaN</td>\n",
              "      <td>S</td>\n",
              "    </tr>\n",
              "    <tr>\n",
              "      <th>353</th>\n",
              "      <td>0</td>\n",
              "      <td>3</td>\n",
              "      <td>Elias, Mr. Tannous</td>\n",
              "      <td>male</td>\n",
              "      <td>15.00</td>\n",
              "      <td>1</td>\n",
              "      <td>1</td>\n",
              "      <td>2695</td>\n",
              "      <td>7.2292</td>\n",
              "      <td>NaN</td>\n",
              "      <td>C</td>\n",
              "    </tr>\n",
              "    <tr>\n",
              "      <th>387</th>\n",
              "      <td>0</td>\n",
              "      <td>3</td>\n",
              "      <td>Goodwin, Master. Sidney Leonard</td>\n",
              "      <td>male</td>\n",
              "      <td>1.00</td>\n",
              "      <td>5</td>\n",
              "      <td>2</td>\n",
              "      <td>CA 2144</td>\n",
              "      <td>46.9000</td>\n",
              "      <td>NaN</td>\n",
              "      <td>S</td>\n",
              "    </tr>\n",
              "    <tr>\n",
              "      <th>408</th>\n",
              "      <td>1</td>\n",
              "      <td>2</td>\n",
              "      <td>Richards, Master. William Rowe</td>\n",
              "      <td>male</td>\n",
              "      <td>3.00</td>\n",
              "      <td>1</td>\n",
              "      <td>1</td>\n",
              "      <td>29106</td>\n",
              "      <td>18.7500</td>\n",
              "      <td>NaN</td>\n",
              "      <td>S</td>\n",
              "    </tr>\n",
              "    <tr>\n",
              "      <th>434</th>\n",
              "      <td>0</td>\n",
              "      <td>3</td>\n",
              "      <td>Kallio, Mr. Nikolai Erland</td>\n",
              "      <td>male</td>\n",
              "      <td>17.00</td>\n",
              "      <td>0</td>\n",
              "      <td>0</td>\n",
              "      <td>STON/O 2. 3101274</td>\n",
              "      <td>7.1250</td>\n",
              "      <td>NaN</td>\n",
              "      <td>S</td>\n",
              "    </tr>\n",
              "    <tr>\n",
              "      <th>446</th>\n",
              "      <td>1</td>\n",
              "      <td>1</td>\n",
              "      <td>Dodge, Master. Washington</td>\n",
              "      <td>male</td>\n",
              "      <td>4.00</td>\n",
              "      <td>0</td>\n",
              "      <td>2</td>\n",
              "      <td>33638</td>\n",
              "      <td>81.8583</td>\n",
              "      <td>A34</td>\n",
              "      <td>S</td>\n",
              "    </tr>\n",
              "    <tr>\n",
              "      <th>481</th>\n",
              "      <td>0</td>\n",
              "      <td>3</td>\n",
              "      <td>Goodwin, Master. Harold Victor</td>\n",
              "      <td>male</td>\n",
              "      <td>9.00</td>\n",
              "      <td>5</td>\n",
              "      <td>2</td>\n",
              "      <td>CA 2144</td>\n",
              "      <td>46.9000</td>\n",
              "      <td>NaN</td>\n",
              "      <td>S</td>\n",
              "    </tr>\n",
              "    <tr>\n",
              "      <th>490</th>\n",
              "      <td>1</td>\n",
              "      <td>3</td>\n",
              "      <td>Coutts, Master. Eden Leslie \"Neville\"</td>\n",
              "      <td>male</td>\n",
              "      <td>9.00</td>\n",
              "      <td>1</td>\n",
              "      <td>1</td>\n",
              "      <td>C.A. 37671</td>\n",
              "      <td>15.9000</td>\n",
              "      <td>NaN</td>\n",
              "      <td>S</td>\n",
              "    </tr>\n",
              "    <tr>\n",
              "      <th>501</th>\n",
              "      <td>0</td>\n",
              "      <td>3</td>\n",
              "      <td>Calic, Mr. Petar</td>\n",
              "      <td>male</td>\n",
              "      <td>17.00</td>\n",
              "      <td>0</td>\n",
              "      <td>0</td>\n",
              "      <td>315086</td>\n",
              "      <td>8.6625</td>\n",
              "      <td>NaN</td>\n",
              "      <td>S</td>\n",
              "    </tr>\n",
              "    <tr>\n",
              "      <th>533</th>\n",
              "      <td>0</td>\n",
              "      <td>3</td>\n",
              "      <td>Elias, Mr. Joseph Jr</td>\n",
              "      <td>male</td>\n",
              "      <td>17.00</td>\n",
              "      <td>1</td>\n",
              "      <td>1</td>\n",
              "      <td>2690</td>\n",
              "      <td>7.2292</td>\n",
              "      <td>NaN</td>\n",
              "      <td>C</td>\n",
              "    </tr>\n",
              "    <tr>\n",
              "      <th>550</th>\n",
              "      <td>1</td>\n",
              "      <td>2</td>\n",
              "      <td>Davies, Master. John Morgan Jr</td>\n",
              "      <td>male</td>\n",
              "      <td>8.00</td>\n",
              "      <td>1</td>\n",
              "      <td>1</td>\n",
              "      <td>C.A. 33112</td>\n",
              "      <td>36.7500</td>\n",
              "      <td>NaN</td>\n",
              "      <td>S</td>\n",
              "    </tr>\n",
              "    <tr>\n",
              "      <th>551</th>\n",
              "      <td>1</td>\n",
              "      <td>1</td>\n",
              "      <td>Thayer, Mr. John Borland Jr</td>\n",
              "      <td>male</td>\n",
              "      <td>17.00</td>\n",
              "      <td>0</td>\n",
              "      <td>2</td>\n",
              "      <td>17421</td>\n",
              "      <td>110.8833</td>\n",
              "      <td>C70</td>\n",
              "      <td>C</td>\n",
              "    </tr>\n",
              "    <tr>\n",
              "      <th>575</th>\n",
              "      <td>0</td>\n",
              "      <td>3</td>\n",
              "      <td>Rush, Mr. Alfred George John</td>\n",
              "      <td>male</td>\n",
              "      <td>16.00</td>\n",
              "      <td>0</td>\n",
              "      <td>0</td>\n",
              "      <td>A/4. 20589</td>\n",
              "      <td>8.0500</td>\n",
              "      <td>NaN</td>\n",
              "      <td>S</td>\n",
              "    </tr>\n",
              "    <tr>\n",
              "      <th>684</th>\n",
              "      <td>0</td>\n",
              "      <td>3</td>\n",
              "      <td>Goodwin, Mr. Charles Edward</td>\n",
              "      <td>male</td>\n",
              "      <td>14.00</td>\n",
              "      <td>5</td>\n",
              "      <td>2</td>\n",
              "      <td>CA 2144</td>\n",
              "      <td>46.9000</td>\n",
              "      <td>NaN</td>\n",
              "      <td>S</td>\n",
              "    </tr>\n",
              "    <tr>\n",
              "      <th>687</th>\n",
              "      <td>0</td>\n",
              "      <td>3</td>\n",
              "      <td>Panula, Mr. Jaako Arnold</td>\n",
              "      <td>male</td>\n",
              "      <td>14.00</td>\n",
              "      <td>4</td>\n",
              "      <td>1</td>\n",
              "      <td>3101295</td>\n",
              "      <td>39.6875</td>\n",
              "      <td>NaN</td>\n",
              "      <td>S</td>\n",
              "    </tr>\n",
              "    <tr>\n",
              "      <th>722</th>\n",
              "      <td>0</td>\n",
              "      <td>3</td>\n",
              "      <td>Jensen, Mr. Svend Lauritz</td>\n",
              "      <td>male</td>\n",
              "      <td>17.00</td>\n",
              "      <td>1</td>\n",
              "      <td>0</td>\n",
              "      <td>350048</td>\n",
              "      <td>7.0542</td>\n",
              "      <td>NaN</td>\n",
              "      <td>S</td>\n",
              "    </tr>\n",
              "    <tr>\n",
              "      <th>732</th>\n",
              "      <td>0</td>\n",
              "      <td>3</td>\n",
              "      <td>Hassan, Mr. Houssein G N</td>\n",
              "      <td>male</td>\n",
              "      <td>11.00</td>\n",
              "      <td>0</td>\n",
              "      <td>0</td>\n",
              "      <td>2699</td>\n",
              "      <td>18.7875</td>\n",
              "      <td>NaN</td>\n",
              "      <td>C</td>\n",
              "    </tr>\n",
              "    <tr>\n",
              "      <th>747</th>\n",
              "      <td>0</td>\n",
              "      <td>3</td>\n",
              "      <td>Abbott, Mr. Rossmore Edward</td>\n",
              "      <td>male</td>\n",
              "      <td>16.00</td>\n",
              "      <td>1</td>\n",
              "      <td>1</td>\n",
              "      <td>C.A. 2673</td>\n",
              "      <td>20.2500</td>\n",
              "      <td>NaN</td>\n",
              "      <td>S</td>\n",
              "    </tr>\n",
              "    <tr>\n",
              "      <th>752</th>\n",
              "      <td>1</td>\n",
              "      <td>3</td>\n",
              "      <td>Moor, Master. Meier</td>\n",
              "      <td>male</td>\n",
              "      <td>6.00</td>\n",
              "      <td>0</td>\n",
              "      <td>1</td>\n",
              "      <td>392096</td>\n",
              "      <td>12.4750</td>\n",
              "      <td>E121</td>\n",
              "      <td>S</td>\n",
              "    </tr>\n",
              "    <tr>\n",
              "      <th>756</th>\n",
              "      <td>1</td>\n",
              "      <td>2</td>\n",
              "      <td>Hamalainen, Master. Viljo</td>\n",
              "      <td>male</td>\n",
              "      <td>0.67</td>\n",
              "      <td>1</td>\n",
              "      <td>1</td>\n",
              "      <td>250649</td>\n",
              "      <td>14.5000</td>\n",
              "      <td>NaN</td>\n",
              "      <td>S</td>\n",
              "    </tr>\n",
              "    <tr>\n",
              "      <th>765</th>\n",
              "      <td>0</td>\n",
              "      <td>3</td>\n",
              "      <td>Eklund, Mr. Hans Linus</td>\n",
              "      <td>male</td>\n",
              "      <td>16.00</td>\n",
              "      <td>0</td>\n",
              "      <td>0</td>\n",
              "      <td>347074</td>\n",
              "      <td>7.7750</td>\n",
              "      <td>NaN</td>\n",
              "      <td>S</td>\n",
              "    </tr>\n",
              "    <tr>\n",
              "      <th>788</th>\n",
              "      <td>0</td>\n",
              "      <td>3</td>\n",
              "      <td>Rice, Master. George Hugh</td>\n",
              "      <td>male</td>\n",
              "      <td>8.00</td>\n",
              "      <td>4</td>\n",
              "      <td>1</td>\n",
              "      <td>382652</td>\n",
              "      <td>29.1250</td>\n",
              "      <td>NaN</td>\n",
              "      <td>Q</td>\n",
              "    </tr>\n",
              "    <tr>\n",
              "      <th>789</th>\n",
              "      <td>1</td>\n",
              "      <td>3</td>\n",
              "      <td>Dean, Master. Bertram Vere</td>\n",
              "      <td>male</td>\n",
              "      <td>1.00</td>\n",
              "      <td>1</td>\n",
              "      <td>2</td>\n",
              "      <td>C.A. 2315</td>\n",
              "      <td>20.5750</td>\n",
              "      <td>NaN</td>\n",
              "      <td>S</td>\n",
              "    </tr>\n",
              "    <tr>\n",
              "      <th>792</th>\n",
              "      <td>0</td>\n",
              "      <td>2</td>\n",
              "      <td>Gaskell, Mr. Alfred</td>\n",
              "      <td>male</td>\n",
              "      <td>16.00</td>\n",
              "      <td>0</td>\n",
              "      <td>0</td>\n",
              "      <td>239865</td>\n",
              "      <td>26.0000</td>\n",
              "      <td>NaN</td>\n",
              "      <td>S</td>\n",
              "    </tr>\n",
              "    <tr>\n",
              "      <th>803</th>\n",
              "      <td>1</td>\n",
              "      <td>1</td>\n",
              "      <td>Carter, Master. William Thornton II</td>\n",
              "      <td>male</td>\n",
              "      <td>11.00</td>\n",
              "      <td>1</td>\n",
              "      <td>2</td>\n",
              "      <td>113760</td>\n",
              "      <td>120.0000</td>\n",
              "      <td>B96 B98</td>\n",
              "      <td>S</td>\n",
              "    </tr>\n",
              "    <tr>\n",
              "      <th>804</th>\n",
              "      <td>1</td>\n",
              "      <td>3</td>\n",
              "      <td>Thomas, Master. Assad Alexander</td>\n",
              "      <td>male</td>\n",
              "      <td>0.42</td>\n",
              "      <td>0</td>\n",
              "      <td>1</td>\n",
              "      <td>2625</td>\n",
              "      <td>8.5167</td>\n",
              "      <td>NaN</td>\n",
              "      <td>C</td>\n",
              "    </tr>\n",
              "    <tr>\n",
              "      <th>820</th>\n",
              "      <td>0</td>\n",
              "      <td>3</td>\n",
              "      <td>Skoog, Master. Karl Thorsten</td>\n",
              "      <td>male</td>\n",
              "      <td>10.00</td>\n",
              "      <td>3</td>\n",
              "      <td>2</td>\n",
              "      <td>347088</td>\n",
              "      <td>27.9000</td>\n",
              "      <td>NaN</td>\n",
              "      <td>S</td>\n",
              "    </tr>\n",
              "    <tr>\n",
              "      <th>825</th>\n",
              "      <td>0</td>\n",
              "      <td>3</td>\n",
              "      <td>Panula, Master. Urho Abraham</td>\n",
              "      <td>male</td>\n",
              "      <td>2.00</td>\n",
              "      <td>4</td>\n",
              "      <td>1</td>\n",
              "      <td>3101295</td>\n",
              "      <td>39.6875</td>\n",
              "      <td>NaN</td>\n",
              "      <td>S</td>\n",
              "    </tr>\n",
              "    <tr>\n",
              "      <th>828</th>\n",
              "      <td>1</td>\n",
              "      <td>2</td>\n",
              "      <td>Mallet, Master. Andre</td>\n",
              "      <td>male</td>\n",
              "      <td>1.00</td>\n",
              "      <td>0</td>\n",
              "      <td>2</td>\n",
              "      <td>S.C./PARIS 2079</td>\n",
              "      <td>37.0042</td>\n",
              "      <td>NaN</td>\n",
              "      <td>C</td>\n",
              "    </tr>\n",
              "    <tr>\n",
              "      <th>832</th>\n",
              "      <td>1</td>\n",
              "      <td>2</td>\n",
              "      <td>Richards, Master. George Sibley</td>\n",
              "      <td>male</td>\n",
              "      <td>0.83</td>\n",
              "      <td>1</td>\n",
              "      <td>1</td>\n",
              "      <td>29106</td>\n",
              "      <td>18.7500</td>\n",
              "      <td>NaN</td>\n",
              "      <td>S</td>\n",
              "    </tr>\n",
              "    <tr>\n",
              "      <th>842</th>\n",
              "      <td>0</td>\n",
              "      <td>2</td>\n",
              "      <td>Mudd, Mr. Thomas Charles</td>\n",
              "      <td>male</td>\n",
              "      <td>16.00</td>\n",
              "      <td>0</td>\n",
              "      <td>0</td>\n",
              "      <td>S.O./P.P. 3</td>\n",
              "      <td>10.5000</td>\n",
              "      <td>NaN</td>\n",
              "      <td>S</td>\n",
              "    </tr>\n",
              "    <tr>\n",
              "      <th>845</th>\n",
              "      <td>0</td>\n",
              "      <td>3</td>\n",
              "      <td>Culumovic, Mr. Jeso</td>\n",
              "      <td>male</td>\n",
              "      <td>17.00</td>\n",
              "      <td>0</td>\n",
              "      <td>0</td>\n",
              "      <td>315090</td>\n",
              "      <td>8.6625</td>\n",
              "      <td>NaN</td>\n",
              "      <td>S</td>\n",
              "    </tr>\n",
              "    <tr>\n",
              "      <th>851</th>\n",
              "      <td>0</td>\n",
              "      <td>3</td>\n",
              "      <td>Andersson, Master. Sigvard Harald Elias</td>\n",
              "      <td>male</td>\n",
              "      <td>4.00</td>\n",
              "      <td>4</td>\n",
              "      <td>2</td>\n",
              "      <td>347082</td>\n",
              "      <td>31.2750</td>\n",
              "      <td>NaN</td>\n",
              "      <td>S</td>\n",
              "    </tr>\n",
              "    <tr>\n",
              "      <th>870</th>\n",
              "      <td>1</td>\n",
              "      <td>3</td>\n",
              "      <td>Johnson, Master. Harold Theodor</td>\n",
              "      <td>male</td>\n",
              "      <td>4.00</td>\n",
              "      <td>1</td>\n",
              "      <td>1</td>\n",
              "      <td>347742</td>\n",
              "      <td>11.1333</td>\n",
              "      <td>NaN</td>\n",
              "      <td>S</td>\n",
              "    </tr>\n",
              "  </tbody>\n",
              "</table>\n",
              "</div>"
            ],
            "text/plain": [
              "             Survived  Pclass  ...    Cabin Embarked\n",
              "PassengerId                    ...                  \n",
              "8                   0       3  ...      NaN        S\n",
              "17                  0       3  ...      NaN        Q\n",
              "51                  0       3  ...      NaN        S\n",
              "60                  0       3  ...      NaN        S\n",
              "64                  0       3  ...      NaN        S\n",
              "79                  1       2  ...      NaN        S\n",
              "87                  0       3  ...      NaN        S\n",
              "126                 1       3  ...      NaN        C\n",
              "139                 0       3  ...      NaN        S\n",
              "164                 0       3  ...      NaN        S\n",
              "165                 0       3  ...      NaN        S\n",
              "166                 1       3  ...      NaN        S\n",
              "172                 0       3  ...      NaN        Q\n",
              "183                 0       3  ...      NaN        S\n",
              "184                 1       2  ...       F4        S\n",
              "194                 1       2  ...       F2        S\n",
              "221                 1       3  ...      NaN        S\n",
              "262                 1       3  ...      NaN        S\n",
              "267                 0       3  ...      NaN        S\n",
              "279                 0       3  ...      NaN        Q\n",
              "283                 0       3  ...      NaN        S\n",
              "306                 1       1  ...  C22 C26        S\n",
              "334                 0       3  ...      NaN        S\n",
              "341                 1       2  ...       F2        S\n",
              "349                 1       3  ...      NaN        S\n",
              "353                 0       3  ...      NaN        C\n",
              "387                 0       3  ...      NaN        S\n",
              "408                 1       2  ...      NaN        S\n",
              "434                 0       3  ...      NaN        S\n",
              "446                 1       1  ...      A34        S\n",
              "481                 0       3  ...      NaN        S\n",
              "490                 1       3  ...      NaN        S\n",
              "501                 0       3  ...      NaN        S\n",
              "533                 0       3  ...      NaN        C\n",
              "550                 1       2  ...      NaN        S\n",
              "551                 1       1  ...      C70        C\n",
              "575                 0       3  ...      NaN        S\n",
              "684                 0       3  ...      NaN        S\n",
              "687                 0       3  ...      NaN        S\n",
              "722                 0       3  ...      NaN        S\n",
              "732                 0       3  ...      NaN        C\n",
              "747                 0       3  ...      NaN        S\n",
              "752                 1       3  ...     E121        S\n",
              "756                 1       2  ...      NaN        S\n",
              "765                 0       3  ...      NaN        S\n",
              "788                 0       3  ...      NaN        Q\n",
              "789                 1       3  ...      NaN        S\n",
              "792                 0       2  ...      NaN        S\n",
              "803                 1       1  ...  B96 B98        S\n",
              "804                 1       3  ...      NaN        C\n",
              "820                 0       3  ...      NaN        S\n",
              "825                 0       3  ...      NaN        S\n",
              "828                 1       2  ...      NaN        C\n",
              "832                 1       2  ...      NaN        S\n",
              "842                 0       2  ...      NaN        S\n",
              "845                 0       3  ...      NaN        S\n",
              "851                 0       3  ...      NaN        S\n",
              "870                 1       3  ...      NaN        S\n",
              "\n",
              "[58 rows x 11 columns]"
            ]
          },
          "metadata": {
            "tags": []
          },
          "execution_count": 82
        }
      ]
    },
    {
      "cell_type": "markdown",
      "metadata": {
        "id": "ln3hUck0JXVx"
      },
      "source": [
        "### Your turn:\n"
      ]
    },
    {
      "cell_type": "code",
      "metadata": {
        "id": "r0surSILJXVy",
        "colab": {
          "base_uri": "https://localhost:8080/"
        },
        "outputId": "0c14cdf4-4493-4a9e-9272-1ae297a4e9e3"
      },
      "source": [
        "# select passengers number 13 and 666 - did they survive?\n",
        "\n",
        "print(data.iloc[13]['Survived'])\n",
        "print(data.iloc[666]['Survived'])"
      ],
      "execution_count": 90,
      "outputs": [
        {
          "output_type": "stream",
          "text": [
            "0\n",
            "0\n"
          ],
          "name": "stdout"
        }
      ]
    },
    {
      "cell_type": "code",
      "metadata": {
        "id": "WfL_YYOVJXV3"
      },
      "source": [
        "# compute the overall survival rate (what fraction of passengers survived the shipwreck)\n",
        "\n",
        "<YOUR CODE>"
      ],
      "execution_count": null,
      "outputs": []
    },
    {
      "cell_type": "code",
      "metadata": {
        "colab": {
          "base_uri": "https://localhost:8080/"
        },
        "id": "-lSINghUESLp",
        "outputId": "6d91037f-dda2-4f3a-e558-8d30432428de"
      },
      "source": [
        "data['Survived'].mean()"
      ],
      "execution_count": 93,
      "outputs": [
        {
          "output_type": "execute_result",
          "data": {
            "text/plain": [
              "0.3838383838383838"
            ]
          },
          "metadata": {
            "tags": []
          },
          "execution_count": 93
        }
      ]
    },
    {
      "cell_type": "markdown",
      "metadata": {
        "id": "NaDF00ADJXV7"
      },
      "source": [
        "```\n",
        "\n",
        "```\n",
        "\n",
        "```\n",
        "\n",
        "```\n",
        "\n",
        "```\n",
        "\n",
        "```\n",
        "\n",
        "```\n",
        "\n",
        "```\n",
        "\n",
        "```\n",
        "\n",
        "```\n",
        "\n",
        "```\n",
        "\n",
        "```\n",
        "\n",
        "```\n",
        "\n",
        "```\n",
        "\n"
      ]
    },
    {
      "cell_type": "markdown",
      "metadata": {
        "id": "dZAezJgDJXV8"
      },
      "source": [
        "Pandas also has some basic data analysis tools. For one, you can quickly display statistical aggregates for each column using `.describe()`"
      ]
    },
    {
      "cell_type": "code",
      "metadata": {
        "id": "yHtn-GlbJXV8",
        "colab": {
          "base_uri": "https://localhost:8080/",
          "height": 284
        },
        "outputId": "e5c40f8d-ebbc-4cd5-ecde-cb627e556235"
      },
      "source": [
        "data.describe()"
      ],
      "execution_count": 94,
      "outputs": [
        {
          "output_type": "execute_result",
          "data": {
            "text/html": [
              "<div>\n",
              "<style scoped>\n",
              "    .dataframe tbody tr th:only-of-type {\n",
              "        vertical-align: middle;\n",
              "    }\n",
              "\n",
              "    .dataframe tbody tr th {\n",
              "        vertical-align: top;\n",
              "    }\n",
              "\n",
              "    .dataframe thead th {\n",
              "        text-align: right;\n",
              "    }\n",
              "</style>\n",
              "<table border=\"1\" class=\"dataframe\">\n",
              "  <thead>\n",
              "    <tr style=\"text-align: right;\">\n",
              "      <th></th>\n",
              "      <th>Survived</th>\n",
              "      <th>Pclass</th>\n",
              "      <th>Age</th>\n",
              "      <th>SibSp</th>\n",
              "      <th>Parch</th>\n",
              "      <th>Fare</th>\n",
              "    </tr>\n",
              "  </thead>\n",
              "  <tbody>\n",
              "    <tr>\n",
              "      <th>count</th>\n",
              "      <td>891.000000</td>\n",
              "      <td>891.000000</td>\n",
              "      <td>714.000000</td>\n",
              "      <td>891.000000</td>\n",
              "      <td>891.000000</td>\n",
              "      <td>891.000000</td>\n",
              "    </tr>\n",
              "    <tr>\n",
              "      <th>mean</th>\n",
              "      <td>0.383838</td>\n",
              "      <td>2.308642</td>\n",
              "      <td>29.699118</td>\n",
              "      <td>0.523008</td>\n",
              "      <td>0.381594</td>\n",
              "      <td>32.204208</td>\n",
              "    </tr>\n",
              "    <tr>\n",
              "      <th>std</th>\n",
              "      <td>0.486592</td>\n",
              "      <td>0.836071</td>\n",
              "      <td>14.526497</td>\n",
              "      <td>1.102743</td>\n",
              "      <td>0.806057</td>\n",
              "      <td>49.693429</td>\n",
              "    </tr>\n",
              "    <tr>\n",
              "      <th>min</th>\n",
              "      <td>0.000000</td>\n",
              "      <td>1.000000</td>\n",
              "      <td>0.420000</td>\n",
              "      <td>0.000000</td>\n",
              "      <td>0.000000</td>\n",
              "      <td>0.000000</td>\n",
              "    </tr>\n",
              "    <tr>\n",
              "      <th>25%</th>\n",
              "      <td>0.000000</td>\n",
              "      <td>2.000000</td>\n",
              "      <td>20.125000</td>\n",
              "      <td>0.000000</td>\n",
              "      <td>0.000000</td>\n",
              "      <td>7.910400</td>\n",
              "    </tr>\n",
              "    <tr>\n",
              "      <th>50%</th>\n",
              "      <td>0.000000</td>\n",
              "      <td>3.000000</td>\n",
              "      <td>28.000000</td>\n",
              "      <td>0.000000</td>\n",
              "      <td>0.000000</td>\n",
              "      <td>14.454200</td>\n",
              "    </tr>\n",
              "    <tr>\n",
              "      <th>75%</th>\n",
              "      <td>1.000000</td>\n",
              "      <td>3.000000</td>\n",
              "      <td>38.000000</td>\n",
              "      <td>1.000000</td>\n",
              "      <td>0.000000</td>\n",
              "      <td>31.000000</td>\n",
              "    </tr>\n",
              "    <tr>\n",
              "      <th>max</th>\n",
              "      <td>1.000000</td>\n",
              "      <td>3.000000</td>\n",
              "      <td>80.000000</td>\n",
              "      <td>8.000000</td>\n",
              "      <td>6.000000</td>\n",
              "      <td>512.329200</td>\n",
              "    </tr>\n",
              "  </tbody>\n",
              "</table>\n",
              "</div>"
            ],
            "text/plain": [
              "         Survived      Pclass         Age       SibSp       Parch        Fare\n",
              "count  891.000000  891.000000  714.000000  891.000000  891.000000  891.000000\n",
              "mean     0.383838    2.308642   29.699118    0.523008    0.381594   32.204208\n",
              "std      0.486592    0.836071   14.526497    1.102743    0.806057   49.693429\n",
              "min      0.000000    1.000000    0.420000    0.000000    0.000000    0.000000\n",
              "25%      0.000000    2.000000   20.125000    0.000000    0.000000    7.910400\n",
              "50%      0.000000    3.000000   28.000000    0.000000    0.000000   14.454200\n",
              "75%      1.000000    3.000000   38.000000    1.000000    0.000000   31.000000\n",
              "max      1.000000    3.000000   80.000000    8.000000    6.000000  512.329200"
            ]
          },
          "metadata": {
            "tags": []
          },
          "execution_count": 94
        }
      ]
    },
    {
      "cell_type": "markdown",
      "metadata": {
        "id": "hp-OG6bOJXWA"
      },
      "source": [
        "Some columns contain __NaN__ values - this means that there is no data there. For example, passenger `#5` has unknown age. To simplify the future data analysis, we'll replace NaN values by using pandas `fillna` function.\n",
        "\n",
        "_Note: we do this so easily because it's a tutorial. In general, you think twice before you modify data like this._"
      ]
    },
    {
      "cell_type": "code",
      "metadata": {
        "id": "h62nzR9vJXWB",
        "colab": {
          "base_uri": "https://localhost:8080/"
        },
        "outputId": "b5e87770-0a30-40c1-b0c5-9a81361a716b"
      },
      "source": [
        "data.iloc[5]"
      ],
      "execution_count": 95,
      "outputs": [
        {
          "output_type": "execute_result",
          "data": {
            "text/plain": [
              "Survived                   0\n",
              "Pclass                     3\n",
              "Name        Moran, Mr. James\n",
              "Sex                     male\n",
              "Age                      NaN\n",
              "SibSp                      0\n",
              "Parch                      0\n",
              "Ticket                330877\n",
              "Fare                  8.4583\n",
              "Cabin                    NaN\n",
              "Embarked                   Q\n",
              "Name: 6, dtype: object"
            ]
          },
          "metadata": {
            "tags": []
          },
          "execution_count": 95
        }
      ]
    },
    {
      "cell_type": "code",
      "metadata": {
        "id": "EHEegWTOJXWK"
      },
      "source": [
        "data['Age'] = data['Age'].fillna(value=data['Age'].mean())\n",
        "data['Fare'] = data['Fare'].fillna(value=data['Fare'].mean())"
      ],
      "execution_count": 96,
      "outputs": []
    },
    {
      "cell_type": "code",
      "metadata": {
        "id": "jSIS7m9RJXWO",
        "colab": {
          "base_uri": "https://localhost:8080/"
        },
        "outputId": "010e4a2e-62e2-4614-af2e-453b49a76fc8"
      },
      "source": [
        "data.iloc[5]"
      ],
      "execution_count": 97,
      "outputs": [
        {
          "output_type": "execute_result",
          "data": {
            "text/plain": [
              "Survived                   0\n",
              "Pclass                     3\n",
              "Name        Moran, Mr. James\n",
              "Sex                     male\n",
              "Age                  29.6991\n",
              "SibSp                      0\n",
              "Parch                      0\n",
              "Ticket                330877\n",
              "Fare                  8.4583\n",
              "Cabin                    NaN\n",
              "Embarked                   Q\n",
              "Name: 6, dtype: object"
            ]
          },
          "metadata": {
            "tags": []
          },
          "execution_count": 97
        }
      ]
    },
    {
      "cell_type": "markdown",
      "metadata": {
        "id": "d_oQnE9JhlWW"
      },
      "source": [
        "### Pandas + numpy"
      ]
    },
    {
      "cell_type": "markdown",
      "metadata": {
        "id": "Wk8fA8HBJXWs"
      },
      "source": [
        "The important part: as pandas uses numpy under the hood, most of numpy functionality works with dataframes, as you can get their numpy representation with `.values` (most numpy functions will even work on pure pandas objects):"
      ]
    },
    {
      "cell_type": "code",
      "metadata": {
        "id": "uE53osRgJXWs",
        "colab": {
          "base_uri": "https://localhost:8080/"
        },
        "outputId": "f2fb1693-74e8-4b00-f9d0-ebefcd55e34a"
      },
      "source": [
        "# calling np.max on a pure pandas column:\n",
        "print(\"Max ticket price: \", np.max(data[\"Fare\"]))\n",
        "\n",
        "# calling np.argmax on a numpy representation of a pandas column\n",
        "# to get its positional index:\n",
        "print(\"\\nThe guy who paid the most:\\n\",\n",
        "      data.iloc[\n",
        "          np.argmax(data[\"Fare\"].values)\n",
        "      ])"
      ],
      "execution_count": 98,
      "outputs": [
        {
          "output_type": "stream",
          "text": [
            "Max ticket price:  512.3292\n",
            "\n",
            "The guy who paid the most:\n",
            " Survived                   1\n",
            "Pclass                     1\n",
            "Name        Ward, Miss. Anna\n",
            "Sex                   female\n",
            "Age                       35\n",
            "SibSp                      0\n",
            "Parch                      0\n",
            "Ticket              PC 17755\n",
            "Fare                 512.329\n",
            "Cabin                    NaN\n",
            "Embarked                   C\n",
            "Name: 259, dtype: object\n"
          ],
          "name": "stdout"
        }
      ]
    },
    {
      "cell_type": "code",
      "metadata": {
        "id": "X5l90RFPN6SL",
        "colab": {
          "base_uri": "https://localhost:8080/"
        },
        "outputId": "dc820115-6f38-4e80-9e52-6258f5bf5551"
      },
      "source": [
        "# numpy works only with positional index:\n",
        "print(data['Fare'].values.argmax())\n",
        "#     ^^^^^^^^^^^^^^^^^^^\n",
        "#     this part returns a numpy array, argmax of which we are calculating\n",
        "\n",
        "\n",
        "# in pandas, you can ask for the index (i.e. value of the index column)\n",
        "# of the maximal element like this:\n",
        "print(data[\"Fare\"].idxmax())"
      ],
      "execution_count": 99,
      "outputs": [
        {
          "output_type": "stream",
          "text": [
            "258\n",
            "259\n"
          ],
          "name": "stdout"
        }
      ]
    },
    {
      "cell_type": "markdown",
      "metadata": {
        "id": "T_xqJK6UJXW6"
      },
      "source": [
        "### Your turn\n",
        "\n",
        "Use numpy and pandas to answer a few questions about data"
      ]
    },
    {
      "cell_type": "code",
      "metadata": {
        "id": "p7O68NpyJXWw",
        "colab": {
          "base_uri": "https://localhost:8080/"
        },
        "outputId": "2bd3c6c4-fb4f-4781-8ba5-27019f01e488"
      },
      "source": [
        "# your code: compute the mean age and find the oldest\n",
        "# person on the ship\n",
        "\n",
        "print(data.Age.mean())\n",
        "print(data.iloc[\n",
        "    np.argmax(data.Age)\n",
        "])"
      ],
      "execution_count": 100,
      "outputs": [
        {
          "output_type": "stream",
          "text": [
            "29.699117647058763\n",
            "Survived                                       1\n",
            "Pclass                                         1\n",
            "Name        Barkworth, Mr. Algernon Henry Wilson\n",
            "Sex                                         male\n",
            "Age                                           80\n",
            "SibSp                                          0\n",
            "Parch                                          0\n",
            "Ticket                                     27042\n",
            "Fare                                          30\n",
            "Cabin                                        A23\n",
            "Embarked                                       S\n",
            "Name: 631, dtype: object\n"
          ],
          "name": "stdout"
        }
      ]
    },
    {
      "cell_type": "code",
      "metadata": {
        "id": "h6eXINxLJXW6",
        "colab": {
          "base_uri": "https://localhost:8080/"
        },
        "outputId": "57ac0ecd-8d04-4437-b3db-6e0fab391e0d"
      },
      "source": [
        "# who on average paid more for their ticket, men or women?\n",
        "\n",
        "mean_fare_men = data[data['Sex'] == 'male']['Fare'].mean()\n",
        "mean_fare_women = data[data['Sex'] == 'female']['Fare'].mean()\n",
        "\n",
        "print(mean_fare_men, mean_fare_women)"
      ],
      "execution_count": 101,
      "outputs": [
        {
          "output_type": "stream",
          "text": [
            "25.523893414211418 44.47981783439487\n"
          ],
          "name": "stdout"
        }
      ]
    },
    {
      "cell_type": "code",
      "metadata": {
        "id": "EyDEaifrJXW8",
        "colab": {
          "base_uri": "https://localhost:8080/"
        },
        "outputId": "99f555dc-98bc-4a06-d123-fe3978f4b41e"
      },
      "source": [
        "# who is more likely to survive: a child (<18 yo) or an adult?\n",
        "\n",
        "child_survival_rate = np.mean(data[\"Survived\"].loc[(data['Age'] < 18)])\n",
        "adult_survival_rate = np.mean(data[\"Survived\"].loc[ (data['Age'] >= 18)])\n",
        "\n",
        "print(child_survival_rate, adult_survival_rate)"
      ],
      "execution_count": 102,
      "outputs": [
        {
          "output_type": "stream",
          "text": [
            "0.5398230088495575 0.36118251928020567\n"
          ],
          "name": "stdout"
        }
      ]
    },
    {
      "cell_type": "markdown",
      "metadata": {
        "id": "4z88BXYDLunO"
      },
      "source": [
        "### Pandas: adding new columns"
      ]
    },
    {
      "cell_type": "markdown",
      "metadata": {
        "id": "fAqszFVKMHCG"
      },
      "source": [
        "To define a new column in a dataframe simply assign to it (if such a column exists it will get overwritten):"
      ]
    },
    {
      "cell_type": "code",
      "metadata": {
        "id": "jTf14P-ELzXD",
        "colab": {
          "base_uri": "https://localhost:8080/",
          "height": 514
        },
        "outputId": "87dec365-c9a4-4cbf-9331-6449e8d3c9d3"
      },
      "source": [
        "data['CabinUnknown'] = data.Cabin.isna()\n",
        "data.head()"
      ],
      "execution_count": 103,
      "outputs": [
        {
          "output_type": "execute_result",
          "data": {
            "text/html": [
              "<div>\n",
              "<style scoped>\n",
              "    .dataframe tbody tr th:only-of-type {\n",
              "        vertical-align: middle;\n",
              "    }\n",
              "\n",
              "    .dataframe tbody tr th {\n",
              "        vertical-align: top;\n",
              "    }\n",
              "\n",
              "    .dataframe thead th {\n",
              "        text-align: right;\n",
              "    }\n",
              "</style>\n",
              "<table border=\"1\" class=\"dataframe\">\n",
              "  <thead>\n",
              "    <tr style=\"text-align: right;\">\n",
              "      <th></th>\n",
              "      <th>Survived</th>\n",
              "      <th>Pclass</th>\n",
              "      <th>Name</th>\n",
              "      <th>Sex</th>\n",
              "      <th>Age</th>\n",
              "      <th>SibSp</th>\n",
              "      <th>Parch</th>\n",
              "      <th>Ticket</th>\n",
              "      <th>Fare</th>\n",
              "      <th>Cabin</th>\n",
              "      <th>Embarked</th>\n",
              "      <th>CabinUnknown</th>\n",
              "    </tr>\n",
              "    <tr>\n",
              "      <th>PassengerId</th>\n",
              "      <th></th>\n",
              "      <th></th>\n",
              "      <th></th>\n",
              "      <th></th>\n",
              "      <th></th>\n",
              "      <th></th>\n",
              "      <th></th>\n",
              "      <th></th>\n",
              "      <th></th>\n",
              "      <th></th>\n",
              "      <th></th>\n",
              "      <th></th>\n",
              "    </tr>\n",
              "  </thead>\n",
              "  <tbody>\n",
              "    <tr>\n",
              "      <th>1</th>\n",
              "      <td>0</td>\n",
              "      <td>3</td>\n",
              "      <td>Braund, Mr. Owen Harris</td>\n",
              "      <td>male</td>\n",
              "      <td>22.0</td>\n",
              "      <td>1</td>\n",
              "      <td>0</td>\n",
              "      <td>A/5 21171</td>\n",
              "      <td>7.2500</td>\n",
              "      <td>NaN</td>\n",
              "      <td>S</td>\n",
              "      <td>True</td>\n",
              "    </tr>\n",
              "    <tr>\n",
              "      <th>2</th>\n",
              "      <td>1</td>\n",
              "      <td>1</td>\n",
              "      <td>Cumings, Mrs. John Bradley (Florence Briggs Th...</td>\n",
              "      <td>female</td>\n",
              "      <td>38.0</td>\n",
              "      <td>1</td>\n",
              "      <td>0</td>\n",
              "      <td>PC 17599</td>\n",
              "      <td>71.2833</td>\n",
              "      <td>C85</td>\n",
              "      <td>C</td>\n",
              "      <td>False</td>\n",
              "    </tr>\n",
              "    <tr>\n",
              "      <th>3</th>\n",
              "      <td>1</td>\n",
              "      <td>3</td>\n",
              "      <td>Heikkinen, Miss. Laina</td>\n",
              "      <td>female</td>\n",
              "      <td>26.0</td>\n",
              "      <td>0</td>\n",
              "      <td>0</td>\n",
              "      <td>STON/O2. 3101282</td>\n",
              "      <td>7.9250</td>\n",
              "      <td>NaN</td>\n",
              "      <td>S</td>\n",
              "      <td>True</td>\n",
              "    </tr>\n",
              "    <tr>\n",
              "      <th>4</th>\n",
              "      <td>1</td>\n",
              "      <td>1</td>\n",
              "      <td>Futrelle, Mrs. Jacques Heath (Lily May Peel)</td>\n",
              "      <td>female</td>\n",
              "      <td>35.0</td>\n",
              "      <td>1</td>\n",
              "      <td>0</td>\n",
              "      <td>113803</td>\n",
              "      <td>53.1000</td>\n",
              "      <td>C123</td>\n",
              "      <td>S</td>\n",
              "      <td>False</td>\n",
              "    </tr>\n",
              "    <tr>\n",
              "      <th>5</th>\n",
              "      <td>0</td>\n",
              "      <td>3</td>\n",
              "      <td>Allen, Mr. William Henry</td>\n",
              "      <td>male</td>\n",
              "      <td>35.0</td>\n",
              "      <td>0</td>\n",
              "      <td>0</td>\n",
              "      <td>373450</td>\n",
              "      <td>8.0500</td>\n",
              "      <td>NaN</td>\n",
              "      <td>S</td>\n",
              "      <td>True</td>\n",
              "    </tr>\n",
              "  </tbody>\n",
              "</table>\n",
              "</div>"
            ],
            "text/plain": [
              "             Survived  Pclass  ... Embarked CabinUnknown\n",
              "PassengerId                    ...                      \n",
              "1                   0       3  ...        S         True\n",
              "2                   1       1  ...        C        False\n",
              "3                   1       3  ...        S         True\n",
              "4                   1       1  ...        S        False\n",
              "5                   0       3  ...        S         True\n",
              "\n",
              "[5 rows x 12 columns]"
            ]
          },
          "metadata": {
            "tags": []
          },
          "execution_count": 103
        }
      ]
    },
    {
      "cell_type": "markdown",
      "metadata": {
        "id": "rLtCIDVCMx3t"
      },
      "source": [
        "Be sure to use the approach with a `['ColumnName']` , rather than `.ColumnName`, otherwize it won't work:"
      ]
    },
    {
      "cell_type": "code",
      "metadata": {
        "id": "ctpV_MWvMh6b",
        "colab": {
          "base_uri": "https://localhost:8080/",
          "height": 547
        },
        "outputId": "948ef343-e7e6-4c4f-b9e0-399e26c409dc"
      },
      "source": [
        "data.this_will_not_work = data.Age**2\n",
        "data.head()"
      ],
      "execution_count": 104,
      "outputs": [
        {
          "output_type": "stream",
          "text": [
            "/usr/local/lib/python3.6/dist-packages/ipykernel_launcher.py:1: UserWarning: Pandas doesn't allow columns to be created via a new attribute name - see https://pandas.pydata.org/pandas-docs/stable/indexing.html#attribute-access\n",
            "  \"\"\"Entry point for launching an IPython kernel.\n"
          ],
          "name": "stderr"
        },
        {
          "output_type": "execute_result",
          "data": {
            "text/html": [
              "<div>\n",
              "<style scoped>\n",
              "    .dataframe tbody tr th:only-of-type {\n",
              "        vertical-align: middle;\n",
              "    }\n",
              "\n",
              "    .dataframe tbody tr th {\n",
              "        vertical-align: top;\n",
              "    }\n",
              "\n",
              "    .dataframe thead th {\n",
              "        text-align: right;\n",
              "    }\n",
              "</style>\n",
              "<table border=\"1\" class=\"dataframe\">\n",
              "  <thead>\n",
              "    <tr style=\"text-align: right;\">\n",
              "      <th></th>\n",
              "      <th>Survived</th>\n",
              "      <th>Pclass</th>\n",
              "      <th>Name</th>\n",
              "      <th>Sex</th>\n",
              "      <th>Age</th>\n",
              "      <th>SibSp</th>\n",
              "      <th>Parch</th>\n",
              "      <th>Ticket</th>\n",
              "      <th>Fare</th>\n",
              "      <th>Cabin</th>\n",
              "      <th>Embarked</th>\n",
              "      <th>CabinUnknown</th>\n",
              "    </tr>\n",
              "    <tr>\n",
              "      <th>PassengerId</th>\n",
              "      <th></th>\n",
              "      <th></th>\n",
              "      <th></th>\n",
              "      <th></th>\n",
              "      <th></th>\n",
              "      <th></th>\n",
              "      <th></th>\n",
              "      <th></th>\n",
              "      <th></th>\n",
              "      <th></th>\n",
              "      <th></th>\n",
              "      <th></th>\n",
              "    </tr>\n",
              "  </thead>\n",
              "  <tbody>\n",
              "    <tr>\n",
              "      <th>1</th>\n",
              "      <td>0</td>\n",
              "      <td>3</td>\n",
              "      <td>Braund, Mr. Owen Harris</td>\n",
              "      <td>male</td>\n",
              "      <td>22.0</td>\n",
              "      <td>1</td>\n",
              "      <td>0</td>\n",
              "      <td>A/5 21171</td>\n",
              "      <td>7.2500</td>\n",
              "      <td>NaN</td>\n",
              "      <td>S</td>\n",
              "      <td>True</td>\n",
              "    </tr>\n",
              "    <tr>\n",
              "      <th>2</th>\n",
              "      <td>1</td>\n",
              "      <td>1</td>\n",
              "      <td>Cumings, Mrs. John Bradley (Florence Briggs Th...</td>\n",
              "      <td>female</td>\n",
              "      <td>38.0</td>\n",
              "      <td>1</td>\n",
              "      <td>0</td>\n",
              "      <td>PC 17599</td>\n",
              "      <td>71.2833</td>\n",
              "      <td>C85</td>\n",
              "      <td>C</td>\n",
              "      <td>False</td>\n",
              "    </tr>\n",
              "    <tr>\n",
              "      <th>3</th>\n",
              "      <td>1</td>\n",
              "      <td>3</td>\n",
              "      <td>Heikkinen, Miss. Laina</td>\n",
              "      <td>female</td>\n",
              "      <td>26.0</td>\n",
              "      <td>0</td>\n",
              "      <td>0</td>\n",
              "      <td>STON/O2. 3101282</td>\n",
              "      <td>7.9250</td>\n",
              "      <td>NaN</td>\n",
              "      <td>S</td>\n",
              "      <td>True</td>\n",
              "    </tr>\n",
              "    <tr>\n",
              "      <th>4</th>\n",
              "      <td>1</td>\n",
              "      <td>1</td>\n",
              "      <td>Futrelle, Mrs. Jacques Heath (Lily May Peel)</td>\n",
              "      <td>female</td>\n",
              "      <td>35.0</td>\n",
              "      <td>1</td>\n",
              "      <td>0</td>\n",
              "      <td>113803</td>\n",
              "      <td>53.1000</td>\n",
              "      <td>C123</td>\n",
              "      <td>S</td>\n",
              "      <td>False</td>\n",
              "    </tr>\n",
              "    <tr>\n",
              "      <th>5</th>\n",
              "      <td>0</td>\n",
              "      <td>3</td>\n",
              "      <td>Allen, Mr. William Henry</td>\n",
              "      <td>male</td>\n",
              "      <td>35.0</td>\n",
              "      <td>0</td>\n",
              "      <td>0</td>\n",
              "      <td>373450</td>\n",
              "      <td>8.0500</td>\n",
              "      <td>NaN</td>\n",
              "      <td>S</td>\n",
              "      <td>True</td>\n",
              "    </tr>\n",
              "  </tbody>\n",
              "</table>\n",
              "</div>"
            ],
            "text/plain": [
              "             Survived  Pclass  ... Embarked CabinUnknown\n",
              "PassengerId                    ...                      \n",
              "1                   0       3  ...        S         True\n",
              "2                   1       1  ...        C        False\n",
              "3                   1       3  ...        S         True\n",
              "4                   1       1  ...        S        False\n",
              "5                   0       3  ...        S         True\n",
              "\n",
              "[5 rows x 12 columns]"
            ]
          },
          "metadata": {
            "tags": []
          },
          "execution_count": 104
        }
      ]
    },
    {
      "cell_type": "markdown",
      "metadata": {
        "id": "ASsnUCRMJXWS"
      },
      "source": [
        "More pandas: \n",
        "* Official [tutorials](https://pandas.pydata.org/pandas-docs/stable/tutorials.html), including this [10 minutes to pandas](https://pandas.pydata.org/pandas-docs/stable/10min.html#min)\n",
        "* Bunch of cheat sheets awaits just one google query away from you (e.g. [basics](http://datacamp-community-prod.s3.amazonaws.com/dbed353d-2757-4617-8206-8767ab379ab3), [combining datasets](https://pbs.twimg.com/media/C65MaMpVwAA3v0A.jpg) and so on). "
      ]
    },
    {
      "cell_type": "markdown",
      "metadata": {
        "id": "yt0lgtQox2e1"
      },
      "source": [
        "## Part IV: plots and matplotlib"
      ]
    },
    {
      "cell_type": "markdown",
      "metadata": {
        "id": "Odx24QWTJXW-"
      },
      "source": [
        "Using python to visualize the data is covered by yet another library: `matplotlib`.\n",
        "\n",
        "Just like python itself, matplotlib has an awesome tendency of keeping simple things simple while still allowing you to write complicated stuff with convenience (e.g. super-detailed plots or custom animations)."
      ]
    },
    {
      "cell_type": "code",
      "metadata": {
        "id": "7QxD0DoLJXW-",
        "scrolled": true,
        "colab": {
          "base_uri": "https://localhost:8080/",
          "height": 265
        },
        "outputId": "5c6b2fae-9a0e-4da7-e430-70916285946c"
      },
      "source": [
        "import matplotlib.pyplot as plt\n",
        "%matplotlib inline\n",
        "# ^-- this \"magic\" selects specific matplotlib backend suitable for\n",
        "# jupyter notebooks. For more info see:\n",
        "# https://ipython.readthedocs.io/en/stable/interactive/plotting.html#id1\n",
        "# (actually it's the default in google colab, so not needed here)\n",
        "\n",
        "# line plot\n",
        "plt.plot([0,1,2,3,4,5],[0,1,4,9,16,25]);"
      ],
      "execution_count": 105,
      "outputs": [
        {
          "output_type": "display_data",
          "data": {
            "image/png": "[encoded data removed]",
            "text/plain": [
              "<Figure size 432x288 with 1 Axes>"
            ]
          },
          "metadata": {
            "tags": [],
            "needs_background": "light"
          }
        }
      ]
    },
    {
      "cell_type": "code",
      "metadata": {
        "id": "huybuiQkJXXB"
      },
      "source": [
        "#scatter-plot\n",
        "x = np.arange(5)\n",
        "print(\"x =\", x)\n",
        "print(\"x**2 =\", x**2)\n",
        "print(\"plotting x**2 vs x:\")\n",
        "plt.scatter(x, x**2)\n",
        "plt.show()  # show the first plot to begin drawing the next one\n",
        "\n",
        "plt.plot(x, x**2);"
      ],
      "execution_count": null,
      "outputs": []
    },
    {
      "cell_type": "code",
      "metadata": {
        "id": "Q4Bj57P_JXXF"
      },
      "source": [
        "# draw a scatter plot with custom markers and colors\n",
        "plt.scatter([1, 1, 2, 3, 4, 4.5], [3, 2, 2, 5, 15, 24],\n",
        "            c=[\"red\", \"blue\", \"orange\", \"green\", \"cyan\", \"gray\"],\n",
        "            marker=\"x\")\n",
        "\n",
        "# without plt.show(), several plots will be drawn on top of one another\n",
        "plt.plot([0, 1, 2, 3, 4, 5], [0, 1, 4, 9, 16, 25], c=\"black\")\n",
        "\n",
        "# adding more sugar\n",
        "plt.title(\"Conspiracy theory proven!!!\")\n",
        "plt.xlabel(\"Per capita alcohol consumption\")\n",
        "plt.ylabel(\"# Layers in state of the art image classifier\");\n",
        "\n",
        "# fun with correlations: http://bit.ly/1FcNnWF"
      ],
      "execution_count": null,
      "outputs": []
    },
    {
      "cell_type": "code",
      "metadata": {
        "id": "fz5WDA4YJXXI"
      },
      "source": [
        "# histogram - showing data density\n",
        "plt.hist([0,1,1,1,2,2,3,3,3,3,3,4,4,5,5,5,6,7,7,8,9,10])\n",
        "plt.show()\n",
        "\n",
        "plt.hist([0,1,1,1,2,2,3,3,3,3,3,4,4,5,5,5,6,7,7,8,9,10], bins=5);"
      ],
      "execution_count": null,
      "outputs": []
    },
    {
      "cell_type": "code",
      "metadata": {
        "id": "_5X-UQAKRefF"
      },
      "source": [
        "# you can also specify bin edges instead of just number of bins:\n",
        "\n",
        "x = np.random.normal(size=10000)\n",
        "bins = np.linspace(-3, 3, 101)\n",
        "plt.hist(x, bins=bins);"
      ],
      "execution_count": null,
      "outputs": []
    },
    {
      "cell_type": "code",
      "metadata": {
        "id": "XmapamrGJXXM"
      },
      "source": [
        "# plot a histogram of age and a histogram of ticket fares on separate plots\n",
        "\n",
        "<YOUR CODE>\n",
        "\n",
        "#bonus: use context help to see if there is a way to draw a 2D histogram of age vs fare."
      ],
      "execution_count": null,
      "outputs": []
    },
    {
      "cell_type": "code",
      "metadata": {
        "id": "QIzNFjffJXXP"
      },
      "source": [
        "# make a scatter plot of passenger age vs ticket fare\n",
        "\n",
        "<YOUR CODE>\n",
        "\n",
        "# kudos if you add separate colors for men and women"
      ],
      "execution_count": null,
      "outputs": []
    },
    {
      "cell_type": "markdown",
      "metadata": {
        "id": "bHDcDWFKJXXS"
      },
      "source": [
        "* Extended [tutorial](https://matplotlib.org/2.0.2/users/pyplot_tutorial.html)\n",
        "* Other libraries for more sophisticated stuff: [Seaborn](https://seaborn.pydata.org/), [Plotly](https://plot.ly/python/), and [Bokeh](https://bokeh.pydata.org/en/latest/)"
      ]
    },
    {
      "cell_type": "markdown",
      "metadata": {
        "id": "ARBewmPBye4-"
      },
      "source": [
        "## Part V (final): machine learning with scikit-learn"
      ]
    },
    {
      "cell_type": "markdown",
      "metadata": {
        "id": "Hpc3yTBjJXXT"
      },
      "source": [
        "<img src='https://imgs.xkcd.com/comics/machine_learning.png' width=320px>\n",
        "\n",
        "Scikit-learn is _the_ tool for simple machine learning pipelines. \n",
        "\n",
        "It's a single library that unites a whole bunch of models under the common interface:\n",
        "* Create:__ `model = sklearn.whatever.ModelNameHere(parameters_if_any)`__\n",
        "* Train:__ `model.fit(X,y)`__\n",
        "* Predict:__ `model.predict(X_test)`__\n",
        "\n",
        "It also contains utilities for feature extraction, quality estimation or cross-validation."
      ]
    },
    {
      "cell_type": "code",
      "metadata": {
        "id": "JhbbBk93JXXV",
        "colab": {
          "base_uri": "https://localhost:8080/",
          "height": 388
        },
        "outputId": "bb15b2e3-512b-486d-8a87-cab60342eceb"
      },
      "source": [
        "from sklearn.neighbors import KNeighborsClassifier\n",
        "from sklearn.metrics import accuracy_score\n",
        "\n",
        "# Let's reload the data to undo our modifications:\n",
        "data = pd.read_csv(\"train.csv\", index_col='PassengerId')\n",
        "\n",
        "features = data[[\"Fare\", \"SibSp\"]].copy()\n",
        "\n",
        "answers = data[\"Survived\"]\n",
        "\n",
        "model = KNeighborsClassifier(n_neighbors=100)\n",
        "model.fit(features[:-100], answers[:-100])\n",
        "\n",
        "test_predictions = model.predict(features[-100:])\n",
        "print(\"Test accuracy:\", accuracy_score(answers[-100:], test_predictions))"
      ],
      "execution_count": 110,
      "outputs": [
        {
          "output_type": "error",
          "ename": "ValueError",
          "evalue": "ignored",
          "traceback": [
            "\u001b[0;31m---------------------------------------------------------------------------\u001b[0m",
            "\u001b[0;31mValueError\u001b[0m                                Traceback (most recent call last)",
            "\u001b[0;32m<ipython-input-110-e5c1a0816e4c>\u001b[0m in \u001b[0;36m<module>\u001b[0;34m()\u001b[0m\n\u001b[1;32m     10\u001b[0m \u001b[0;34m\u001b[0m\u001b[0m\n\u001b[1;32m     11\u001b[0m \u001b[0mmodel\u001b[0m \u001b[0;34m=\u001b[0m \u001b[0mKNeighborsClassifier\u001b[0m\u001b[0;34m(\u001b[0m\u001b[0mn_neighbors\u001b[0m\u001b[0;34m=\u001b[0m\u001b[0;36m100\u001b[0m\u001b[0;34m)\u001b[0m\u001b[0;34m\u001b[0m\u001b[0;34m\u001b[0m\u001b[0m\n\u001b[0;32m---> 12\u001b[0;31m \u001b[0mmodel\u001b[0m\u001b[0;34m.\u001b[0m\u001b[0mfit\u001b[0m\u001b[0;34m(\u001b[0m\u001b[0mfeatures\u001b[0m\u001b[0;34m[\u001b[0m\u001b[0;34m:\u001b[0m\u001b[0;34m-\u001b[0m\u001b[0;36m100\u001b[0m\u001b[0;34m]\u001b[0m\u001b[0;34m,\u001b[0m \u001b[0manswers\u001b[0m\u001b[0;34m[\u001b[0m\u001b[0;34m:\u001b[0m\u001b[0;34m-\u001b[0m\u001b[0;36m100\u001b[0m\u001b[0;34m]\u001b[0m\u001b[0;34m)\u001b[0m\u001b[0;34m\u001b[0m\u001b[0;34m\u001b[0m\u001b[0m\n\u001b[0m\u001b[1;32m     13\u001b[0m \u001b[0;34m\u001b[0m\u001b[0m\n\u001b[1;32m     14\u001b[0m \u001b[0mtest_predictions\u001b[0m \u001b[0;34m=\u001b[0m \u001b[0mmodel\u001b[0m\u001b[0;34m.\u001b[0m\u001b[0mpredict\u001b[0m\u001b[0;34m(\u001b[0m\u001b[0mfeatures\u001b[0m\u001b[0;34m[\u001b[0m\u001b[0;34m-\u001b[0m\u001b[0;36m100\u001b[0m\u001b[0;34m:\u001b[0m\u001b[0;34m]\u001b[0m\u001b[0;34m)\u001b[0m\u001b[0;34m\u001b[0m\u001b[0;34m\u001b[0m\u001b[0m\n",
            "\u001b[0;32m/usr/local/lib/python3.6/dist-packages/sklearn/neighbors/_base.py\u001b[0m in \u001b[0;36mfit\u001b[0;34m(self, X, y)\u001b[0m\n\u001b[1;32m   1124\u001b[0m         \"\"\"\n\u001b[1;32m   1125\u001b[0m         \u001b[0;32mif\u001b[0m \u001b[0;32mnot\u001b[0m \u001b[0misinstance\u001b[0m\u001b[0;34m(\u001b[0m\u001b[0mX\u001b[0m\u001b[0;34m,\u001b[0m \u001b[0;34m(\u001b[0m\u001b[0mKDTree\u001b[0m\u001b[0;34m,\u001b[0m \u001b[0mBallTree\u001b[0m\u001b[0;34m)\u001b[0m\u001b[0;34m)\u001b[0m\u001b[0;34m:\u001b[0m\u001b[0;34m\u001b[0m\u001b[0;34m\u001b[0m\u001b[0m\n\u001b[0;32m-> 1126\u001b[0;31m             \u001b[0mX\u001b[0m\u001b[0;34m,\u001b[0m \u001b[0my\u001b[0m \u001b[0;34m=\u001b[0m \u001b[0mcheck_X_y\u001b[0m\u001b[0;34m(\u001b[0m\u001b[0mX\u001b[0m\u001b[0;34m,\u001b[0m \u001b[0my\u001b[0m\u001b[0;34m,\u001b[0m \u001b[0;34m\"csr\"\u001b[0m\u001b[0;34m,\u001b[0m \u001b[0mmulti_output\u001b[0m\u001b[0;34m=\u001b[0m\u001b[0;32mTrue\u001b[0m\u001b[0;34m)\u001b[0m\u001b[0;34m\u001b[0m\u001b[0;34m\u001b[0m\u001b[0m\n\u001b[0m\u001b[1;32m   1127\u001b[0m \u001b[0;34m\u001b[0m\u001b[0m\n\u001b[1;32m   1128\u001b[0m         \u001b[0;32mif\u001b[0m \u001b[0my\u001b[0m\u001b[0;34m.\u001b[0m\u001b[0mndim\u001b[0m \u001b[0;34m==\u001b[0m \u001b[0;36m1\u001b[0m \u001b[0;32mor\u001b[0m \u001b[0my\u001b[0m\u001b[0;34m.\u001b[0m\u001b[0mndim\u001b[0m \u001b[0;34m==\u001b[0m \u001b[0;36m2\u001b[0m \u001b[0;32mand\u001b[0m \u001b[0my\u001b[0m\u001b[0;34m.\u001b[0m\u001b[0mshape\u001b[0m\u001b[0;34m[\u001b[0m\u001b[0;36m1\u001b[0m\u001b[0;34m]\u001b[0m \u001b[0;34m==\u001b[0m \u001b[0;36m1\u001b[0m\u001b[0;34m:\u001b[0m\u001b[0;34m\u001b[0m\u001b[0;34m\u001b[0m\u001b[0m\n",
            "\u001b[0;32m/usr/local/lib/python3.6/dist-packages/sklearn/utils/validation.py\u001b[0m in \u001b[0;36mcheck_X_y\u001b[0;34m(X, y, accept_sparse, accept_large_sparse, dtype, order, copy, force_all_finite, ensure_2d, allow_nd, multi_output, ensure_min_samples, ensure_min_features, y_numeric, warn_on_dtype, estimator)\u001b[0m\n\u001b[1;32m    753\u001b[0m                     \u001b[0mensure_min_features\u001b[0m\u001b[0;34m=\u001b[0m\u001b[0mensure_min_features\u001b[0m\u001b[0;34m,\u001b[0m\u001b[0;34m\u001b[0m\u001b[0;34m\u001b[0m\u001b[0m\n\u001b[1;32m    754\u001b[0m                     \u001b[0mwarn_on_dtype\u001b[0m\u001b[0;34m=\u001b[0m\u001b[0mwarn_on_dtype\u001b[0m\u001b[0;34m,\u001b[0m\u001b[0;34m\u001b[0m\u001b[0;34m\u001b[0m\u001b[0m\n\u001b[0;32m--> 755\u001b[0;31m                     estimator=estimator)\n\u001b[0m\u001b[1;32m    756\u001b[0m     \u001b[0;32mif\u001b[0m \u001b[0mmulti_output\u001b[0m\u001b[0;34m:\u001b[0m\u001b[0;34m\u001b[0m\u001b[0;34m\u001b[0m\u001b[0m\n\u001b[1;32m    757\u001b[0m         y = check_array(y, 'csr', force_all_finite=True, ensure_2d=False,\n",
            "\u001b[0;32m/usr/local/lib/python3.6/dist-packages/sklearn/utils/validation.py\u001b[0m in \u001b[0;36mcheck_array\u001b[0;34m(array, accept_sparse, accept_large_sparse, dtype, order, copy, force_all_finite, ensure_2d, allow_nd, ensure_min_samples, ensure_min_features, warn_on_dtype, estimator)\u001b[0m\n\u001b[1;32m    576\u001b[0m         \u001b[0;32mif\u001b[0m \u001b[0mforce_all_finite\u001b[0m\u001b[0;34m:\u001b[0m\u001b[0;34m\u001b[0m\u001b[0;34m\u001b[0m\u001b[0m\n\u001b[1;32m    577\u001b[0m             _assert_all_finite(array,\n\u001b[0;32m--> 578\u001b[0;31m                                allow_nan=force_all_finite == 'allow-nan')\n\u001b[0m\u001b[1;32m    579\u001b[0m \u001b[0;34m\u001b[0m\u001b[0m\n\u001b[1;32m    580\u001b[0m     \u001b[0;32mif\u001b[0m \u001b[0mensure_min_samples\u001b[0m \u001b[0;34m>\u001b[0m \u001b[0;36m0\u001b[0m\u001b[0;34m:\u001b[0m\u001b[0;34m\u001b[0m\u001b[0;34m\u001b[0m\u001b[0m\n",
            "\u001b[0;32m/usr/local/lib/python3.6/dist-packages/sklearn/utils/validation.py\u001b[0m in \u001b[0;36m_assert_all_finite\u001b[0;34m(X, allow_nan, msg_dtype)\u001b[0m\n\u001b[1;32m     58\u001b[0m                     \u001b[0mmsg_err\u001b[0m\u001b[0;34m.\u001b[0m\u001b[0mformat\u001b[0m\u001b[0;34m\u001b[0m\u001b[0;34m\u001b[0m\u001b[0m\n\u001b[1;32m     59\u001b[0m                     (type_err,\n\u001b[0;32m---> 60\u001b[0;31m                      msg_dtype if msg_dtype is not None else X.dtype)\n\u001b[0m\u001b[1;32m     61\u001b[0m             )\n\u001b[1;32m     62\u001b[0m     \u001b[0;31m# for object dtype data, we only check for NaNs (GH-13254)\u001b[0m\u001b[0;34m\u001b[0m\u001b[0;34m\u001b[0m\u001b[0;34m\u001b[0m\u001b[0m\n",
            "\u001b[0;31mValueError\u001b[0m: Input contains NaN, infinity or a value too large for dtype('float64')."
          ]
        }
      ]
    },
    {
      "cell_type": "code",
      "metadata": {
        "colab": {
          "base_uri": "https://localhost:8080/",
          "height": 265
        },
        "id": "t3CnA3HXUGYb",
        "outputId": "b7f5076d-9a39-42ec-b38a-7134f2a408e3"
      },
      "source": [
        "plt.scatter(data.Age, np.log1p(data.Fare));"
      ],
      "execution_count": 125,
      "outputs": [
        {
          "output_type": "display_data",
          "data": {
            "image/png": "[encoded data removed]",
            "text/plain": [
              "<Figure size 432x288 with 1 Axes>"
            ]
          },
          "metadata": {
            "tags": [],
            "needs_background": "light"
          }
        }
      ]
    },
    {
      "cell_type": "code",
      "metadata": {
        "colab": {
          "base_uri": "https://localhost:8080/"
        },
        "id": "Y-ZNAzbeOWOe",
        "outputId": "ed3e9092-939c-413c-ceb3-bc130adac534"
      },
      "source": [
        "from sklearn.neighbors import KNeighborsClassifier\n",
        "from sklearn.metrics import accuracy_score\n",
        "\n",
        "# Let's reload the data to undo our modifications:\n",
        "data = pd.read_csv(\"train.csv\", index_col='PassengerId')\n",
        "\n",
        "features = data[[\"Fare\",\"Pclass\"]].copy()\n",
        "features.Fare = (features.Fare-np.mean(features.Fare))/np.std(features.Fare)\n",
        "features.Pclass = (features.Pclass-np.mean(features.Pclass))/np.std(features.Pclass)\n",
        "features['is_male'] = (data.Sex == 'male')\n",
        "\n",
        "answers = data[\"Survived\"]\n",
        "\n",
        "model = KNeighborsClassifier(n_neighbors=13)\n",
        "model.fit(features[:-100], answers[:-100])\n",
        "\n",
        "test_predictions = model.predict(features[-100:])\n",
        "print(\"Test accuracy:\", accuracy_score(answers[-100:], test_predictions))"
      ],
      "execution_count": 121,
      "outputs": [
        {
          "output_type": "stream",
          "text": [
            "Test accuracy: 0.81\n"
          ],
          "name": "stdout"
        }
      ]
    },
    {
      "cell_type": "code",
      "metadata": {
        "id": "Bj-xJc0jOgfj"
      },
      "source": [
        "from sklearn.model_selection import train_test_split"
      ],
      "execution_count": 113,
      "outputs": []
    },
    {
      "cell_type": "code",
      "metadata": {
        "colab": {
          "base_uri": "https://localhost:8080/"
        },
        "id": "iGbVsZHbO-XP",
        "outputId": "a272114b-dce4-4020-b7eb-7a652d1a75c2"
      },
      "source": [
        "from sklearn.model_selection import train_test_split\n",
        "\n",
        "features_train, features_val, answers_train, answers_val = train_test_split(features, answers, test_size=100, random_state=42)\n",
        "\n",
        "model = KNeighborsClassifier(n_neighbors=13)\n",
        "model.fit(features_train, answers_train)\n",
        "\n",
        "val_predictions = model.predict(features_val)\n",
        "print(\"Test accuracy:\", accuracy_score(answers_val, val_predictions))"
      ],
      "execution_count": 123,
      "outputs": [
        {
          "output_type": "stream",
          "text": [
            "Test accuracy: 0.8\n"
          ],
          "name": "stdout"
        }
      ]
    },
    {
      "cell_type": "markdown",
      "metadata": {
        "id": "Wxe6EeCSJXXY"
      },
      "source": [
        "__Final quest:__ tune n_neighbors and add more features to achieve accuracy of at least 0.75\n",
        "\n",
        "\n",
        "__Hint 1:__ for string features like \"Sex\" or \"Embarked\" you will have to compute some kind of numeric representation.\n",
        "For example, 1 if male and 0 if female or vice versa \n",
        "\n",
        "__Hint 2:__ features like \"Age\" contain NaN values. You can replace them with e.g. `features['Age'] = data[\"Age\"].fillna(some_number)`."
      ]
    },
    {
      "cell_type": "markdown",
      "metadata": {
        "id": "WcdyuBflJXXZ"
      },
      "source": [
        "* Sklearn [tutorials](http://scikit-learn.org/stable/tutorial/index.html)\n",
        "* Sklearn [examples](http://scikit-learn.org/stable/auto_examples/index.html)\n",
        "* Sklearn [cheat sheet](http://scikit-learn.org/stable/_static/ml_map.png)"
      ]
    },
    {
      "cell_type": "markdown",
      "metadata": {
        "id": "toDL-cAILb8H"
      },
      "source": [
        "```\n",
        "```\n",
        "```\n",
        "```"
      ]
    },
    {
      "cell_type": "markdown",
      "metadata": {
        "id": "_gdvIZBILdoo"
      },
      "source": [
        "## Bonus part"
      ]
    },
    {
      "cell_type": "markdown",
      "metadata": {
        "id": "ErWMVXfvcgrZ"
      },
      "source": [
        "### Pandas: one-hot encoding"
      ]
    },
    {
      "cell_type": "code",
      "metadata": {
        "id": "YBfOdHGGdCMC"
      },
      "source": [
        "pd.get_dummies(data.Embarked, prefix='Embarked').head()\n",
        "# added .head() for a more compact output"
      ],
      "execution_count": null,
      "outputs": []
    },
    {
      "cell_type": "markdown",
      "metadata": {
        "id": "ZxqeVSdKd0DT"
      },
      "source": [
        "### Pandas: merging tables"
      ]
    },
    {
      "cell_type": "code",
      "metadata": {
        "id": "AP9PrE8qdyI_"
      },
      "source": [
        "data_extended = pd.concat([\n",
        "                      data,\n",
        "                      pd.get_dummies(data.Embarked, prefix='Embarked')\n",
        "                    ], axis=1)\n",
        "data_extended.head()"
      ],
      "execution_count": null,
      "outputs": []
    },
    {
      "cell_type": "markdown",
      "metadata": {
        "id": "QeaeflaAeQ7W"
      },
      "source": [
        "### Pandas: groupby"
      ]
    },
    {
      "cell_type": "markdown",
      "metadata": {
        "id": "fP6HFtuRhwPD"
      },
      "source": [
        "This function provides a neat way to calculate some statistics for groups of entries with some common feature value."
      ]
    },
    {
      "cell_type": "code",
      "metadata": {
        "id": "y4QeQUKmiDSZ"
      },
      "source": [
        "g = data.groupby('Embarked')\n",
        "# Now `g` is an iterable of dataframes split based on the values\n",
        "# in the 'Embarked' column:\n",
        "\n",
        "for embarked, group in g:\n",
        "  print(embarked, type(group), group.shape)"
      ],
      "execution_count": null,
      "outputs": []
    },
    {
      "cell_type": "code",
      "metadata": {
        "id": "cZlGdJ3-jo05"
      },
      "source": [
        "# You can calculate things on the groups simultaniously:\n",
        "\n",
        "g.mean()"
      ],
      "execution_count": null,
      "outputs": []
    },
    {
      "cell_type": "code",
      "metadata": {
        "id": "P-3FFL-hj8qP"
      },
      "source": [
        "g.count() # this calculates the number of valid entries (excluding nans)"
      ],
      "execution_count": null,
      "outputs": []
    },
    {
      "cell_type": "code",
      "metadata": {
        "id": "c4KA9HsekPiA"
      },
      "source": [
        "# You can also access individual columns:\n",
        "g.Fare.max()"
      ],
      "execution_count": null,
      "outputs": []
    },
    {
      "cell_type": "markdown",
      "metadata": {
        "id": "WRhTgAVHekYH"
      },
      "source": [
        "### Pandas: cut and qcut"
      ]
    },
    {
      "cell_type": "markdown",
      "metadata": {
        "id": "c42YbZKlksNz"
      },
      "source": [
        "These functions let us split data into bins: `cut` makes linear splits, while `qcut` makes quantile-based splits. They both return a column of bins to which current entry belongs:"
      ]
    },
    {
      "cell_type": "code",
      "metadata": {
        "id": "UHMNswNblHeB"
      },
      "source": [
        "pd.cut(data.Age, 3).head() # '.head()' added for a more compact output"
      ],
      "execution_count": null,
      "outputs": []
    },
    {
      "cell_type": "code",
      "metadata": {
        "id": "GJGJhcqUlgKC"
      },
      "source": [
        "pd.qcut(data.Age, 3).head() # '.head()' added for a more compact output"
      ],
      "execution_count": null,
      "outputs": []
    },
    {
      "cell_type": "markdown",
      "metadata": {
        "id": "pCGLUZ8CmjD0"
      },
      "source": [
        "### Your turn"
      ]
    },
    {
      "cell_type": "markdown",
      "metadata": {
        "id": "G6ryMww4mlK-"
      },
      "source": [
        "Use `cut` and `groupby` to calculate survival rate for 3 age categories.\n",
        "\n",
        "**Hint:** you may want to add the result of `cut` as a new column"
      ]
    },
    {
      "cell_type": "code",
      "metadata": {
        "id": "_VD_cgA8m6WT"
      },
      "source": [
        "<YOUR CODE HERE>"
      ],
      "execution_count": null,
      "outputs": []
    },
    {
      "cell_type": "markdown",
      "metadata": {
        "id": "UYc963-eepev"
      },
      "source": [
        "### Pandas: combining the tricks (survival vs ticket fare)"
      ]
    },
    {
      "cell_type": "code",
      "metadata": {
        "id": "8aA6C8vbLdJk"
      },
      "source": [
        "from matplotlib.ticker import ScalarFormatter\n",
        "\n",
        "data['qFare'] = pd.qcut(data.Fare, 20)\n",
        "\n",
        "sur_vs_price = data.groupby('qFare').Survived.mean()\n",
        "sur_vs_price_e = data.groupby('qFare').Survived.std() \\\n",
        "                        / data.groupby('qFare').Survived.count()**0.5\n",
        "\n",
        "fig = plt.figure(figsize=(16, 9))\n",
        "plt.errorbar(x=sur_vs_price.index.categories.mid,\n",
        "             y=sur_vs_price.values,\n",
        "             yerr=sur_vs_price_e.values,\n",
        "             xerr=(\n",
        "                 sur_vs_price.index.categories.right - \n",
        "                 sur_vs_price.index.categories.left\n",
        "               ) / 2,\n",
        "             fmt='o')\n",
        "plt.gca().set_xscale('log')\n",
        "plt.gca().xaxis.set_major_formatter(ScalarFormatter())\n",
        "plt.gca().set_xticks(\n",
        "              list(range(3, 10)) +\n",
        "              list(range(10, 100, 10)) +\n",
        "              list(range(100, 700, 100))\n",
        "            )\n",
        "\n",
        "plt.xlabel('Fare')\n",
        "plt.ylabel('Survival probability');"
      ],
      "execution_count": null,
      "outputs": []
    },
    {
      "cell_type": "code",
      "metadata": {
        "id": "TdVz8jsG6AjS"
      },
      "source": [
        ""
      ],
      "execution_count": null,
      "outputs": []
    }
  ]
}